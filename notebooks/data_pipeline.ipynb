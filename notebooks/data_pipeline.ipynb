{
 "cells": [
  {
   "cell_type": "code",
   "execution_count": null,
   "metadata": {
    "collapsed": true
   },
   "outputs": [],
   "source": [
    "# %load boiler_plate.py\n",
    "# reload modules when they change\n",
    "%load_ext autoreload\n",
    "%autoreload 2\n",
    "\n",
    "# Alow plotting\n",
    "%matplotlib inline\n",
    "\n",
    "# Import modules higher in folder hierarchy\n",
    "import os\n",
    "import sys\n",
    "\n",
    "\n",
    "def add_path(path):\n",
    "    if path not in sys.path:\n",
    "        sys.path.append(path)\n"
   ]
  },
  {
   "cell_type": "code",
   "execution_count": null,
   "metadata": {
    "collapsed": true
   },
   "outputs": [],
   "source": [
    "add_path('..')"
   ]
  },
  {
   "cell_type": "code",
   "execution_count": null,
   "metadata": {
    "collapsed": true
   },
   "outputs": [],
   "source": [
    "from pipeline.db import fetch, inner_join, filter_videos"
   ]
  },
  {
   "cell_type": "markdown",
   "metadata": {},
   "source": [
    "# Load data\n",
    "## Videos data"
   ]
  },
  {
   "cell_type": "code",
   "execution_count": null,
   "metadata": {
    "collapsed": true
   },
   "outputs": [],
   "source": [
    "dbname='ds-wizards'\n",
    "user='wizard'\n",
    "host='192.95.32.117'\n",
    "password='GaG23jVxZhMnQaU53r8o'\n",
    "\n",
    "VQUERY = \"select post_id, url from videos where status='ok'\"\n",
    "\n",
    "vres = fetch(host, dbname, user, password, VQUERY)\n",
    "vres = [(post_id.split(\"_\")[1], url) for post_id, url in vres]"
   ]
  },
  {
   "cell_type": "markdown",
   "metadata": {},
   "source": [
    "## Tags"
   ]
  },
  {
   "cell_type": "code",
   "execution_count": null,
   "metadata": {
    "collapsed": true
   },
   "outputs": [],
   "source": [
    "dbname='ds-content-tags'\n",
    "user='ds-content-tags'\n",
    "password='0fXjWl592vNf1gYvIw8w'\n",
    "host='192.95.32.117'\n",
    "\n",
    "TQUERY = \"select id, tags from videos where tags is not NULL\"\n",
    "TAGS = \"select tag_id, name, path from content_tags\"\n",
    "\n",
    "tres = fetch(host, dbname, user, password, TQUERY)\n",
    "\n",
    "tags = { \n",
    "    tag_id: (name, path) for (tag_id, name, path) in fetch(\n",
    "        host, dbname, user, password, TAGS) \n",
    "}"
   ]
  },
  {
   "cell_type": "code",
   "execution_count": null,
   "metadata": {
    "collapsed": true
   },
   "outputs": [],
   "source": [
    "import itertools\n",
    "from collections import Counter"
   ]
  },
  {
   "cell_type": "code",
   "execution_count": null,
   "metadata": {
    "collapsed": true
   },
   "outputs": [],
   "source": [
    "c = Counter(itertools.chain(*[tags for (_, tags) in tres]))\n",
    "c_min10 = sorted([(tags[k][0], v  )for k, v in c.items() if v > 10], key = lambda x: x[1], )"
   ]
  },
  {
   "cell_type": "code",
   "execution_count": null,
   "metadata": {
    "collapsed": true
   },
   "outputs": [],
   "source": [
    "Counter([len(path) for name, path in tags.values()])"
   ]
  },
  {
   "cell_type": "code",
   "execution_count": null,
   "metadata": {
    "collapsed": true
   },
   "outputs": [],
   "source": [
    "[(name, path) for name, path in tags.values() if len(path) == 2]"
   ]
  },
  {
   "cell_type": "markdown",
   "metadata": {},
   "source": [
    "## Join videos with tags"
   ]
  },
  {
   "cell_type": "code",
   "execution_count": null,
   "metadata": {
    "collapsed": true
   },
   "outputs": [],
   "source": [
    "videos = list(inner_join(tres, vres))\n",
    "filtered, t2i, i2t = filter_videos(videos, 10)\n",
    "print(\"Found %d videos with %d unique tags\" % (len(filtered), len(t2i)))"
   ]
  },
  {
   "cell_type": "code",
   "execution_count": null,
   "metadata": {
    "collapsed": true
   },
   "outputs": [],
   "source": [
    "len(filtered), len(t2i)"
   ]
  },
  {
   "cell_type": "code",
   "execution_count": null,
   "metadata": {
    "collapsed": true
   },
   "outputs": [],
   "source": [
    "len(videos)"
   ]
  },
  {
   "cell_type": "code",
   "execution_count": null,
   "metadata": {
    "collapsed": true
   },
   "outputs": [],
   "source": [
    "# Take only the most common class from the list\n",
    "import math\n",
    "\n",
    "c = Counter([min([t2i.get(t, math.inf) for t in tags]) \n",
    "             for (id, tags, url) in videos])"
   ]
  },
  {
   "cell_type": "code",
   "execution_count": null,
   "metadata": {
    "collapsed": true
   },
   "outputs": [],
   "source": [
    "# Check the new size of the classes\n",
    "len(c)"
   ]
  },
  {
   "cell_type": "markdown",
   "metadata": {},
   "source": [
    "# DbPedia"
   ]
  },
  {
   "cell_type": "code",
   "execution_count": null,
   "metadata": {
    "collapsed": true
   },
   "outputs": [],
   "source": [
    "import requests\n",
    "\n",
    "from urllib.parse import quote\n",
    "from xml.etree import ElementTree"
   ]
  },
  {
   "cell_type": "code",
   "execution_count": null,
   "metadata": {
    "collapsed": true
   },
   "outputs": [],
   "source": [
    "XMLSN = \"{http://lookup.dbpedia.org/}\"\n",
    "DBPEDIA_QUERY = \"http://lookup.dbpedia.org/api/search/KeywordSearch?&QueryString=%s\"\n",
    "LABEL_PATH = \".//{0}Label\".format(XMLSN)\n",
    "DESCRIPTION_PATH = \"{0}Description\".format(XMLSN)\n",
    "RESULT = \"{0}Result\".format(XMLSN)"
   ]
  },
  {
   "cell_type": "code",
   "execution_count": null,
   "metadata": {
    "collapsed": true
   },
   "outputs": [],
   "source": [
    "import re\n",
    "\n",
    "def keep(label):\n",
    "    if \"owl#Thing\" in label:\n",
    "        return False\n",
    "    \n",
    "    if \"from\" in label:\n",
    "        return False\n",
    "    \n",
    "    if \"births\" in label:\n",
    "        return False\n",
    "    \n",
    "    if \"xmlns\" in label:\n",
    "        return False\n",
    "    \n",
    "    if re.search(r\"american people of [a-z]* descent\", label):\n",
    "        return False\n",
    "    \n",
    "    return True\n",
    "\n",
    "def normalise(label):\n",
    "    label = label.lower()\n",
    "    \n",
    "    return label"
   ]
  },
  {
   "cell_type": "code",
   "execution_count": null,
   "metadata": {
    "collapsed": true
   },
   "outputs": [],
   "source": [
    "def dbpedia_labels(tag, only_first = True):\n",
    "    response = requests.get(DBPEDIA_QUERY % quote(tag))\n",
    "    tree = ElementTree.fromstring(response.content)\n",
    "\n",
    "    # It there no resutls, return tag and empy list\n",
    "    if not tree.findall(RESULT):\n",
    "        raise NameError\n",
    "\n",
    "    tree = tree[0] if only_first else tree\n",
    "\n",
    "    # Fetch labels form xml\n",
    "    labels = [label.text for label in tree.findall(LABEL_PATH)]\n",
    "\n",
    "    # Clean labels\n",
    "    labels = [normalise(label) for label in labels if keep(label)]\n",
    "\n",
    "    # Remove duplicates\n",
    "    labels = list(set(labels))\n",
    "\n",
    "    # Get Description\n",
    "    description = tree.find(DESCRIPTION_PATH).text\n",
    "    description = description.strip() if description else tag\n",
    "    \n",
    "    return description, labels"
   ]
  },
  {
   "cell_type": "markdown",
   "metadata": {},
   "source": [
    "# Explore DbPedia tags"
   ]
  },
  {
   "cell_type": "code",
   "execution_count": null,
   "metadata": {
    "collapsed": true
   },
   "outputs": [],
   "source": [
    "for tag_id, (name, path) in itertools.islice(tags.items(), 3):\n",
    "    try:\n",
    "        desc, labels =  dbpedia_labels(name)\n",
    "        print(\"%s | %s | \\n%s\" % (tag_id, name, desc))\n",
    "        for label in labels:\n",
    "            print(\"\\t %s\" % label)\n",
    "    except NameError:\n",
    "        print(\"[Exception] Could not find tags for %s\" % name)"
   ]
  },
  {
   "cell_type": "code",
   "execution_count": null,
   "metadata": {
    "collapsed": true
   },
   "outputs": [],
   "source": [
    "def make_t2l(tags, logging_step=100, only_first = True):\n",
    "    t2l = {}\n",
    "    for index, tag_id in enumerate(tags):\n",
    "        name, path =  tags[tag_id]\n",
    "        if index % logging_step == 0:\n",
    "            print(\"[%d] Fetching info for %s object in dbpedia\" % (index, name))\n",
    "        \n",
    "        try:\n",
    "            t2l[tag_id] = dbpedia_labels(name, only_first)\n",
    "        except NameError:\n",
    "            print(\"Could not find label for tag %s\" % name)\n",
    "        except Exception as e:\n",
    "            print(\"Exception for %s [%s]\" % name, e.message)\n",
    "        \n",
    "    return t2l"
   ]
  },
  {
   "cell_type": "code",
   "execution_count": null,
   "metadata": {
    "collapsed": true
   },
   "outputs": [],
   "source": [
    "t2l = make_t2l(tags)"
   ]
  },
  {
   "cell_type": "code",
   "execution_count": null,
   "metadata": {
    "collapsed": true
   },
   "outputs": [],
   "source": [
    "labels_raw = itertools.chain(*[set(labels) for (tag_id, (desc, labels)) in t2l.items()])\n",
    "labels_raw = [normalise(label) for label in labels_raw if keep(label)]\n",
    "labels = Counter(labels_raw)"
   ]
  },
  {
   "cell_type": "code",
   "execution_count": null,
   "metadata": {
    "collapsed": true
   },
   "outputs": [],
   "source": [
    "labels_top100 = set([name for name, count in labels.most_common()[:100]])"
   ]
  },
  {
   "cell_type": "code",
   "execution_count": null,
   "metadata": {
    "collapsed": true
   },
   "outputs": [],
   "source": [
    "t2l_top100 = {}\n",
    "for tag_id, (desc, labels) in t2l.items():\n",
    "    labels = [label for label in labels if label in labels_top100]\n",
    "    if labels:\n",
    "        t2l_top100[tag_id] = labels"
   ]
  },
  {
   "cell_type": "code",
   "execution_count": null,
   "metadata": {
    "collapsed": true
   },
   "outputs": [],
   "source": [
    "# Get filterd and raw key\n",
    "keys_top100 = set(t2l_top100).intersection(set(tags))\n",
    "keys = set(t2l).intersection(set(tags))"
   ]
  },
  {
   "cell_type": "code",
   "execution_count": null,
   "metadata": {
    "collapsed": true
   },
   "outputs": [],
   "source": [
    "from collections import namedtuple"
   ]
  },
  {
   "cell_type": "code",
   "execution_count": null,
   "metadata": {},
   "outputs": [],
   "source": [
    "Tag = namedtuple('Tag', ['id', 'name', 'description', 'labels'], verbose=True)"
   ]
  },
  {
   "cell_type": "code",
   "execution_count": null,
   "metadata": {},
   "outputs": [],
   "source": [
    "joined_tags = {k: Tag(k, tags[k][0], t2l[k][0], t2l[k][1])  for k in keys }"
   ]
  },
  {
   "cell_type": "code",
   "execution_count": null,
   "metadata": {},
   "outputs": [],
   "source": [
    "len(keys)"
   ]
  },
  {
   "cell_type": "code",
   "execution_count": null,
   "metadata": {},
   "outputs": [],
   "source": [
    "len(joined_tags)"
   ]
  },
  {
   "cell_type": "code",
   "execution_count": null,
   "metadata": {},
   "outputs": [],
   "source": [
    "for tag_id, tag in itertools.islice(joined_tags.items(), 3):\n",
    "    print(\"%s | %s | \\n%s\" % (tag_id, tag.name, tag.description))\n",
    "    for label in tag.labels:\n",
    "        print(\"\\t %s\" % label)"
   ]
  },
  {
   "cell_type": "markdown",
   "metadata": {},
   "source": [
    "# IO"
   ]
  },
  {
   "cell_type": "code",
   "execution_count": null,
   "metadata": {
    "collapsed": true
   },
   "outputs": [],
   "source": [
    "import pickle"
   ]
  },
  {
   "cell_type": "markdown",
   "metadata": {},
   "source": [
    "## Save tags"
   ]
  },
  {
   "cell_type": "code",
   "execution_count": null,
   "metadata": {
    "collapsed": true
   },
   "outputs": [],
   "source": [
    "with open(\"/data/video/dbpedia_tags.pickle\", \"wb\") as handle:\n",
    "    pickle.dump(t2l, handle)"
   ]
  },
  {
   "cell_type": "markdown",
   "metadata": {},
   "source": [
    "## Load tags"
   ]
  },
  {
   "cell_type": "code",
   "execution_count": null,
   "metadata": {
    "collapsed": true
   },
   "outputs": [],
   "source": [
    "with open(\"/data/video/dbpedia_tags.pickle\", \"rb\") as handle:\n",
    "    t2l = pickle.load(handle)"
   ]
  },
  {
   "cell_type": "markdown",
   "metadata": {},
   "source": [
    "# Clustering"
   ]
  },
  {
   "cell_type": "code",
   "execution_count": null,
   "metadata": {
    "collapsed": true
   },
   "outputs": [],
   "source": [
    "import spacy\n",
    "nlp = spacy.load('en')"
   ]
  },
  {
   "cell_type": "code",
   "execution_count": null,
   "metadata": {
    "collapsed": true
   },
   "outputs": [],
   "source": [
    "import nltk\n",
    "from nltk.stem.snowball import SnowballStemmer\n",
    "\n",
    "# load nltk's English stopwords as variable called 'stopwords'\n",
    "stopwords = nltk.corpus.stopwords.words('english')\n",
    "\n",
    "# load nltk's SnowballStemmer as variabled 'stemmer'\n",
    "stemmer = SnowballStemmer(\"english\")\n",
    "\n",
    "def filer_tokens(tokens, filter_stopwords=True):\n",
    "    filtered = []\n",
    "    # filter out any tokens not containing letters (e.g., numeric tokens, raw punctuation)\n",
    "    for token in tokens:\n",
    "        if re.search('[a-zA-Z]', token):\n",
    "            filtered.append(token)\n",
    "    \n",
    "    # remove stop words\n",
    "    if filter_stopwords:\n",
    "        filtered = [token for token in filtered if token not in stopwords]\n",
    "            \n",
    "    return filtered\n",
    "    \n",
    "def tokenize_and_stem(text):\n",
    "    # first tokenize by sentence, then by word to ensure that punctuation is caught as it's own token\n",
    "    tokens = [word for sent in nltk.sent_tokenize(text) for word in nltk.word_tokenize(sent)]\n",
    "    filtered_tokens = filer_tokens(tokens)\n",
    "    stems = [stemmer.stem(t) for t in filtered_tokens]\n",
    "    return stems\n",
    "\n",
    "def tokenize_only(text):\n",
    "    # first tokenize by sentence, then by word to ensure that punctuation is caught as it's own token\n",
    "    tokens = [word.lower() for sent in nltk.sent_tokenize(text) for word in nltk.word_tokenize(sent)]\n",
    "    filtered_tokens = filer_tokens(tokens)\n",
    "    return filtered_tokens\n",
    "\n",
    "def tokenize_and_lem(text):\n",
    "    tokens = [token.lemma_ for token in nlp(example)]\n",
    "    filtered_tokens = filer_tokens(tokens)\n",
    "    return filtered_tokens"
   ]
  },
  {
   "cell_type": "code",
   "execution_count": null,
   "metadata": {
    "collapsed": true
   },
   "outputs": [],
   "source": [
    "example = \"The Log Cabin Republicans (LCR) is an organization that works within the Republican Party to advocate equal rights for all Americans, including gays and lesbians in the United States. The group's constituency supports the Republican Party and advocates for the rights of gay and lesbian Americans. LCR is the only Republican organization dedicated to representing the interests of LGBT Americans and their allies.\""
   ]
  },
  {
   "cell_type": "code",
   "execution_count": null,
   "metadata": {
    "collapsed": true
   },
   "outputs": [],
   "source": [
    "print(example)"
   ]
  },
  {
   "cell_type": "code",
   "execution_count": null,
   "metadata": {
    "collapsed": true
   },
   "outputs": [],
   "source": [
    "\" \".join(tokenize_only(example))"
   ]
  },
  {
   "cell_type": "code",
   "execution_count": null,
   "metadata": {
    "collapsed": true
   },
   "outputs": [],
   "source": [
    "\" \".join(tokenize_and_lem(example))"
   ]
  },
  {
   "cell_type": "markdown",
   "metadata": {},
   "source": [
    "# TF-IDF and document similarity"
   ]
  },
  {
   "cell_type": "code",
   "execution_count": null,
   "metadata": {
    "collapsed": true
   },
   "outputs": [],
   "source": [
    "import numpy as np"
   ]
  },
  {
   "cell_type": "code",
   "execution_count": null,
   "metadata": {},
   "outputs": [],
   "source": [
    "# Cluster only on descriptions\n",
    "descriptions = [tag.description for tag in joined_tags.values()]\n",
    "\n",
    "# Cluster only on labels\n",
    "labels = [\" \".join(tag.labels) for tag in joined_tags.values()]\n",
    "\n",
    "# Cluster on both\n",
    "descriptions_and_labels = [\"%s %s\" % tup for tup in zip(descriptions, labels)]\n",
    "\n",
    "# Names\n",
    "names = [tag.name for tag in joined_tags.values()]"
   ]
  },
  {
   "cell_type": "code",
   "execution_count": null,
   "metadata": {},
   "outputs": [],
   "source": [
    "from sklearn.feature_extraction.text import TfidfVectorizer\n",
    "\n",
    "#define vectorizer parameters\n",
    "tfidf_vectorizer = TfidfVectorizer(max_df=0.9, max_features=200000, stop_words='english',\n",
    "                                 use_idf=True, tokenizer=tokenize_and_stem, ngram_range=(1,3))\n",
    "\n",
    "%time tfidf_matrix = tfidf_vectorizer.fit_transform(descriptions)\n",
    "print(tfidf_matrix.shape)"
   ]
  },
  {
   "cell_type": "code",
   "execution_count": null,
   "metadata": {},
   "outputs": [],
   "source": [
    "terms = tfidf_vectorizer.get_feature_names()"
   ]
  },
  {
   "cell_type": "code",
   "execution_count": null,
   "metadata": {
    "collapsed": true
   },
   "outputs": [],
   "source": [
    "from sklearn.metrics.pairwise import cosine_similarity\n",
    "dist = 1 - cosine_similarity(tfidf_matrix)"
   ]
  },
  {
   "cell_type": "markdown",
   "metadata": {},
   "source": [
    "# K-means clustering"
   ]
  },
  {
   "cell_type": "code",
   "execution_count": null,
   "metadata": {},
   "outputs": [],
   "source": [
    "from sklearn.cluster import KMeans\n",
    "num_clusters = 50\n",
    "km = KMeans(n_clusters=num_clusters)\n",
    "\n",
    "%time km.fit(tfidf_matrix)"
   ]
  },
  {
   "cell_type": "code",
   "execution_count": null,
   "metadata": {
    "collapsed": true
   },
   "outputs": [],
   "source": [
    "clusters = km.labels_.tolist()"
   ]
  },
  {
   "cell_type": "code",
   "execution_count": null,
   "metadata": {},
   "outputs": [],
   "source": [
    "from collections import Counter \n",
    "import numpy as np\n",
    "import matplotlib.pyplot as plt\n",
    "\n",
    "\n",
    "x_labels, values = zip(*Counter(clusters).items())\n",
    "\n",
    "indexes = np.arange(len(x_labels))\n",
    "\n",
    "plt.figure(figsize=(20, 5))\n",
    "plt.bar(indexes, values, width)\n",
    "plt.xticks(indexes, x_labels)\n",
    "plt.show()"
   ]
  },
  {
   "cell_type": "code",
   "execution_count": null,
   "metadata": {},
   "outputs": [],
   "source": [
    "data = { 'names': names, 'descriptions': descriptions, 'labels': labels}\n",
    "\n",
    "frame = pd.DataFrame(data, index = [clusters] , columns = ['names', 'descriptions', 'labels'])"
   ]
  },
  {
   "cell_type": "code",
   "execution_count": null,
   "metadata": {},
   "outputs": [],
   "source": [
    "frame.ix[0]"
   ]
  },
  {
   "cell_type": "code",
   "execution_count": null,
   "metadata": {},
   "outputs": [],
   "source": [
    "def print_top(km, terms, frame, ntop_words = 15, n_labels = 15):\n",
    "    print(\"Top terms per cluster:\")\n",
    "    #sort cluster centers by proximity to centroid\n",
    "    order_centroids = km.cluster_centers_.argsort()[:, ::-1] \n",
    "\n",
    "    for i in range(km.n_clusters):\n",
    "        top_words = [terms[i] for i in order_centroids[i, :ntop_words]]\n",
    "        sample_labels = frame.ix[i]['names'][:n_labels].values\n",
    "\n",
    "        print(\"Cluster %d\" % i)\n",
    "        print('WORDS: %s' % ', '.join(top_words))\n",
    "        print(\"LABEL NAMES: %s\" % \", \".join(sample_labels))\n",
    "        print() #add whitespace"
   ]
  },
  {
   "cell_type": "code",
   "execution_count": 471,
   "metadata": {},
   "outputs": [
    {
     "name": "stdout",
     "output_type": "stream",
     "text": [
      "Top terms per cluster:\n",
      "Cluster 0\n",
      "WORDS: transport, vehicl, use, bear, wheel, object, skateboard, motor, surfac, blood, magnet, aircraft, mechan, design, parachut\n",
      "LABEL NAMES: Transport, Motorcycles, donut, Cars, Miniature UAV, bikes, Vacuum cleaner, Bus, Police car, Toddler, Carpool, Handshake, Fertility awareness, Quantum mechanics, Iran\n",
      "\n",
      "Cluster 1\n",
      "WORDS: comic, marvel, charact, comic book, book, appear, marvel comic, superhero, fiction, fiction charact, publish, book publish, comic book publish, appear comic, creat\n",
      "LABEL NAMES: Comic book, Steve Harvey, Vapor, Wonder Woman (TV series), Catwoman, Squirrel Girl, thor, Black Panther (comics), Quicksilver (comics), Logan, Thimble, Captain America, Captain Marvel (DC Comics), Iron Man (2008 film), Bane (comics)\n",
      "\n",
      "Cluster 2\n",
      "WORDS: state, unit state, unit, north, ocean, west, south, popul, border, atlant, east, region, locat, mountain, extens\n",
      "LABEL NAMES: Oklahoma, Arkansas, Abortion in the United States, The Home Depot, Ocean, Tennessee, Sports and outdoors, Alabama, Ohio, southwest airlines, Arctic, Rocky, Canada, Colorado, Iraq War\n",
      "\n",
      "Cluster 3\n",
      "WORDS: film, born, role, actor, american, televis, actress, star, seri, known, american actress, best, best known, american actor, known role\n",
      "LABEL NAMES: Alec Baldwin, Jada Pinkett Smith, Kristen Bell, Andrew Garfield, Martin Starr, Rumer Willis, Sigourney Weaver, Unicorn, Tatiana Maslany, Bill Paxton, Phil McGraw, Wendell Pierce, Samuel L. Jackson, Jaden Smith, Robin Wright\n",
      "\n",
      "Cluster 4\n",
      "WORDS: york, new york, new, citi, york citi, new york citi, manhattan, state, museum, art, manhattan new york, manhattan new, univers, citi new, cannabi\n",
      "LABEL NAMES: Costume, New York City Police Department, Times Square Ball, Futurama, CollegeHumor, New York University, Carnegie Hall, Growing pains, Lana Del Rey, History of hip-hop dance, legalization marijuana, Alicia Keys, Legality of cannabis, cafe, Calvin Klein\n",
      "\n",
      "Cluster 5\n",
      "WORDS: organ, use, includ, speci, term, form, 's, common, known, death, live, bodi, group, natur, order\n",
      "LABEL NAMES: Tunnel, Scientist, Exploration of the Moon, Ballpoint pen, Surprise (emotion), Warehouse, Surgeon, Kurds, Skeleton, Neurosurgery, Erna Solberg, Basic income, Member states of the United Nations, Starvation, Garbage truck\n",
      "\n",
      "Cluster 6\n",
      "WORDS: comput, softwar, scienc, graphic, use, design, program, network, scientist, inform, technolog, display, adob, data, comput softwar\n",
      "LABEL NAMES: Julian Assange, MacBook, Internet, Wearable technology, Augmented reality, Business, Bill Nye, Astronomy, Virology, Spyware, Microsoft Windows, Noam Chomsky, IBM, Virtual reality, Algorithm\n",
      "\n",
      "Cluster 7\n",
      "WORDS: compani, world, largest, 's, corpor, world 's, headquart, inc., unit, oper, multin, retail, 's largest, world 's largest, servic\n",
      "LABEL NAMES: Good Vibrations (sex shop), Fireworks, Shell Oil Company, pearl harbor, Toyota, Bitcoin, The UPS Store, Amazon.com, Health (magazine), The Trump Entrepreneur Initiative, Great Barrier Reef, Autism Speaks, Digital Trends, Sea turtle, Advertising\n",
      "\n",
      "Cluster 8\n",
      "WORDS: film, direct, star, film direct, american, written, produc, fiction, film star, novel, potter, releas, harri potter, seri, 's\n",
      "LABEL NAMES: Lemony Snicket's A Series of Unfortunate Events, Han Solo, Titanic (1997 film), Back to the Future Part II, Teen film, Donnie Darko, Indiana Jones (franchise), Dave Chappelle, The Life Aquatic with Steve Zissou, Cruel Intentions, Action movies, Hogwarts, Madame Tussauds, Star Wars, Brokeback Mountain\n",
      "\n",
      "Cluster 9\n",
      "WORDS: album, record, releas, born, known stage, stage, rapper, singl, artist, better known, debut, better, american, better known stage, known\n",
      "LABEL NAMES: Kanye West, Amy Winehouse, Stevie Wonder, Sean Combs, Pitbull (rapper), Whitney Houston, Christina Grimmie, tyrese, All Eyez on Me, Ludacris, Cyndi Lauper, Ed Sheeran, Music, Tyga, Spice Girls\n",
      "\n",
      "Cluster 10\n",
      "WORDS: perform, street, danc, practic, peopl, hockey, magic, joke, street perform, engag, trick, form, tourism, audienc, leisur\n",
      "LABEL NAMES: Youth activism, Flip (acrobatic), Step dance, Manicure, Washing machine, Elmo, Ballroom dance, Pranksters, Field hockey, Meditation, Professional wrestling, Thermal efficiency, Brie Larson, Clock, Conan O'Brien\n",
      "\n",
      "Cluster 11\n",
      "WORDS: game, video game, video, kardashian, card, arcad, card game, seri, play, trump, khloé, playstat, olymp, televis, khloé kardashian\n",
      "LABEL NAMES: Trading card, Family Feud, Grand Theft Auto V, Mobile app, Red Dead Redemption, The Legend of Zelda, Spelling bee, Collectable, The Daily Show, The Bachelor (U.S. TV series), Vodka, Kris Jenner, skittles, Entertainment, ellen degeneres\n",
      "\n",
      "Cluster 12\n",
      "WORDS: sexual, human, sex, marriag, gender, person, refer, cultur, ident, attract, general, hair, term, relationship, gay\n",
      "LABEL NAMES: Identity document, Interracial Romance, Gorilla, Physical attractiveness, LGBT social movements, Space exploration, Jackie Evancho, Same-sex marriage, Gender pay gap, Human sexuality, Pride parade, Transgenderism, Interracial marriage, Curiosity, Orgasmic\n",
      "\n",
      "Cluster 13\n",
      "WORDS: anim, disney, walt, walt disney, film, disney compani, walt disney compani, seri, compani, studio, featur, pictur, american, televis, motion\n",
      "LABEL NAMES: Ariel (The Little Mermaid), Marvel Entertainment, Snow White and the Seven Dwarfs (1937 film), Pig, PETA (People for the Ethical Treatment of Animals), Mickey Mouse, Animal Lovers, The Twilight Zone Tower of Terror, Children's television series, Mulan (1998 film), International Animal Rescue, time lapse, Woodstock Farm Animal Sanctuary, Disney Channel, Puppet\n",
      "\n",
      "Cluster 14\n",
      "WORDS: award, academi, actor, academi award, best, film, golden globe, globe, award best, nomin, actress, golden, role, globe award, golden globe award\n",
      "LABEL NAMES: Elaine Benes, Scholarship, MTV Movie Awards, Spike Lee, Tony Award, Tony Award for Best Musical, Make-up artist, Viola Davis, Margaret Atwood, Grammy Award, Teen Choice Awards, Cher, Anna Kendrick, Liam Neeson, Nobel Prize\n",
      "\n",
      "Cluster 15\n",
      "WORDS: state, unit state, unit, govern, feder, presid, amend, right, forc, feder govern, power, congress, branch, constitut, state america\n",
      "LABEL NAMES: Beauty salons, May Day, United States Environmental Protection Agency, Environmental protection, Violence prevention, Girl Scouts of the USA, Prohibition of drugs, Indigenous peoples, IRS penalties, AT&T, Syrian Civil War, Patient Protection and Affordable Care Act, Nelly, CARE Package, Culture of the Southern United States\n",
      "\n",
      "Cluster 16\n",
      "WORDS: church, ireland, christian, cathol, cathol church, english, king, roman, lord, britain, island, 's, henri, day, father\n",
      "LABEL NAMES: Mormonism, Sloth, Morning, Mother and Son, Prince Harry, Latin, Bee, The Jungle Book, Lorde, Church (building), Font, Mother's Day, Baptism, Hail, Marriage proposal\n",
      "\n",
      "Cluster 17\n",
      "WORDS: parti, republican, elect, state, presidenti, unit state, polit, unit, presid, senat, candid, republican parti, democrat, presidenti elect, polit parti\n",
      "LABEL NAMES: Candidate, Republicans, Reince Priebus, Republican National Committee, Young Republicans, Primary election, Parties, Ferguson, Missouri, Jill Stein, Hillary Rodham Clinton, Mitt Romney, Election day, Democratic National Committee, Burglary, Presidency of Barack Obama\n",
      "\n",
      "Cluster 18\n",
      "WORDS: hous, social, build, organ, unit, homeless, non-profit organ, repres, state, non-profit, term, hous unit, unit state, manag, hous repres\n",
      "LABEL NAMES: David Letterman, Toilet paper, Balenciaga, Jake Tapper, Late Show with David Letterman, Chanel, Casino, Animal shelter, NORML, Low Income Housing Institute, Jewish Community Center, Real estate appraisal, Color, Emma Stone, Ronald McDonald\n",
      "\n",
      "Cluster 19\n",
      "WORDS: music, rock, band, guitar, popular, genr, song, form, rock band, singer, vocal, album, popular music, pop, record\n",
      "LABEL NAMES: Lunar soil, Wham!, Country music, VH1, Michael Jackson, Jukebox, Hanson (band), Milky Way, The Roots, Karaoke, Pop music, H&M, Korean Music, The Voice, Florence Welch\n",
      "\n",
      "Cluster 20\n",
      "WORDS: use, devic, vapor, jet, water, liquid, squirrel, asteroid, type, aircraft, user, scienc fiction, common, gase, planet\n",
      "LABEL NAMES: Wakeboarding, Treasure, Flight attendant, Internet of Things, Scar, Vaporizers, Asteroid, Homeless shelter, Jupiter, Donkey, Mars, First contact (science fiction), Coffeemaker, Jet aircraft, Turkish people\n",
      "\n",
      "Cluster 21\n",
      "WORDS: car, race, motor, jaguar, automobil, luxuri, auto, auto race, compani, motorcycl, race car, formula, vehicl, lifestyl, nascar\n",
      "LABEL NAMES: Motorsport, Lexus, Renault, German Shepherd, Elf, Ford Motor Company, BMW, motor bike, Stunt, Classic car, Drivers, Auto maintenance, Jaguar Land Rover, FXX, Vintage car\n",
      "\n",
      "Cluster 22\n",
      "WORDS: digit, phone, mobil, video, camera, devic, media, use, comput, android, communic, content, electron, smartphon, paramed\n",
      "LABEL NAMES: IPad, Texting, Mobile device, Video blog, Tape measure, Paramedics in the United States, Viral video, Digimon, SNL Digital Short, Substance use disorder, Cameras, Mobile phones, Nokia, Samsung Galaxy, Facial recognition system\n",
      "\n",
      "Cluster 23\n",
      "WORDS: south, republ, countri, east, north, border, west, offici, sea, mi, offici republ, africa, asia, america, island\n",
      "LABEL NAMES: Libya, Guatemala, Bolivia, Ghana, Republic of Macedonia, Santiago, Kenya, Gaza Strip, Israel, Ethiopia, Chechnya, North Korea, Spain, Oceania, Paraguay\n",
      "\n",
      "Cluster 24\n",
      "WORDS: leagu, basebal, team, unit, canada, unit state canada, state canada, profession, state, unit state, cup, leagu basebal, hockey, nation, play\n",
      "LABEL NAMES: Greyhound, MasterCard, Barbecue, Cookie, Better Business Bureau, Overtime, Hazing, twins, Red, Milk, PGA Championship, Kangaroo, Chicago Cubs, World Health Organization, Cheetah\n",
      "\n",
      "Cluster 25\n",
      "WORDS: citi, counti, popul, state, census, largest citi, counti seat, largest, seat, unit state, unit, locat, california, road, citi unit\n",
      "LABEL NAMES: Philadelphia, Indian people, Magnet, Baltimore, Aleppo, Cleveland, San Antonio, Road, Newark, New Jersey, Sanctuary city, Las Vegas, Oakland, California, Atlantic City, New Jersey, San Bernardino, California, Miami\n",
      "\n",
      "Cluster 26\n",
      "WORDS: los, los angel, angel, newspap, parent, california, los angel california, angel california, time, publish, magazin, weather, news, compani, unit\n",
      "LABEL NAMES: Climate, Adam DeVine, Finance, University of Southern California, Funeral home, Pretty Woman, Grandparent, Local news, Phone hacking, Baby announcement, Gay News, Weird News, Orangutan Foundation International, Obituary, Clairol\n",
      "\n",
      "Cluster 27\n",
      "WORDS: electr, energi, power, wind, use, nuclear, devic, water, weapon, generat, fission, solar, mechan, hybrid, batteri\n",
      "LABEL NAMES: Juice, Power Grid, Electric car, Navigation, Dam, Energy drinks, Hydropower, Wind turbine, Firefighter, Nuclear fusion, Battery charger, Tesla Motors, Solar panel, nuclear weapons, Major appliance\n",
      "\n",
      "Cluster 28\n",
      "WORDS: right, women, equal, movement, polit, social, educ, women 's, employ, econom, femin, seek, feminist, human, 's\n",
      "LABEL NAMES: Rosa Parks, The Orangutan Project, Gloria Steinem, Wilderness, Spinal cord, Suffragette, Conservatism, Small Animals, Fitness and figure competition, Women's History Month, Muslim Youth, Human rights, Populism, Disability rights movement, Deportation\n",
      "\n",
      "Cluster 29\n",
      "WORDS: line, shoe, air, warcraft, nike, scuba, releas, max, introduc, compani, supplier, nike inc., inc., blacksmith, apparel\n",
      "LABEL NAMES: Footwear, One Direction, Mad Max: Fury Road, Kite, Monster High, IPhone, Guess (clothing), Deep sea, Yeezy, Roomba, Delta Air Lines, Will Smith, Lego, World of Warcraft, Nutella\n",
      "\n",
      "Cluster 30\n",
      "WORDS: basketbal, channel, nba, nation, associ, basketbal associ, profession basketbal, nation basketbal, nation basketbal associ, team, american, ncaa, american profession basketbal, american profession, associ nba\n",
      "LABEL NAMES: Lamar Odom, Wheelchair basketball, Golden State Warriors, Starz (TV network), Discovery Channel, Stephen Curry, Tent, National Association for Gun Rights, Basketball, LeBron James, Michael Jordan, TeenNick, Comedy Central, NCAA Men's Division I Basketball Championship, Charles Barkley\n",
      "\n",
      "Cluster 31\n",
      "WORDS: club, air, issu, competit, relationship, social issu, high school, glee, school, fox, high, televis, seri, social, member\n",
      "LABEL NAMES: Turkish Airlines, Interpersonal relationship, Lightning, Party Food, Halsey, High School Musical, Fox, Figure skating, BattleBots, Romy and Michele's High School Reunion, Politics and social issues, Gasoline, bodybuilding Women, Personal grooming, Buffy the Vampire Slayer\n",
      "\n",
      "Cluster 32\n",
      "WORDS: footbal, leagu, footbal leagu, nfl, team, nation footbal, american footbal, nation, play, nation footbal leagu, colleg footbal, colleg, footbal leagu nfl, leagu nfl, profession\n",
      "LABEL NAMES: Tim Tebow, Jaguar, College football, San Francisco 49ers, National Football League, Aaron Hernandez, nfl, Halftime show, Safety, Swan, Cats, Flight, Monday Night Football, Eyebrow, O. J. Simpson\n",
      "\n",
      "Cluster 33\n",
      "WORDS: fashion, versac, design, vogu, fashion design, italian, 's, accessori, cloth, wine, bahama, victoria 's secret, victoria 's, 's secret, magazin\n",
      "LABEL NAMES: Hairstyle, Kenzo (brand), Victoria's Secret, Vogue (magazine), Fashion show, Gianni Versace, Meatball, Women's fashion, Master of None, Rei Kawakubo, Runway Modeling, Anna Wintour, Tommy Hilfiger, Espresso machine, Vogue Paris\n",
      "\n",
      "Cluster 34\n",
      "WORDS: seri, televis, comedi, night, american, televis seri, saturday, saturday night, night live, saturday night live, writer, nbc, live, fiction, sketch\n",
      "LABEL NAMES: Bridesmaids (2011 film), Star Trek, Good Morning America, Home video, Showtime (TV network), Mighty Morphin Power Rangers, Rob Schneider, Saturday Night Live, Jesse Pinkman, Sesame Street, 30 Rock, Dan Harmon, Rocky Balboa, Al Franken, Kristen Wiig\n",
      "\n",
      "Cluster 35\n",
      "WORDS: seri, season, televis, premier, realiti, televis seri, realiti televis, follow, american, air, realiti televis seri, network, jersey, american realiti, episod\n",
      "LABEL NAMES: Area 51, Mother Nature, Shawn Johnson, America's Got Talent, Teen Wolf (2011 TV series), Weird world, Archer (TV series), Seasonal industry, Tulip, Veep (TV series), So You Think You Can Dance (U.S. season 8), Laverne Cox, Dance Moms, RuPaul's Drag Race, The Voice (U.S. TV series)\n",
      "\n",
      "Cluster 36\n",
      "WORDS: art, greek, centuri, ancient, movement, literatur, visual, mean, classic, architectur, decor, word, work, form, poetri\n",
      "LABEL NAMES: Adventure travel, Taste, Duel, Writing, Drugstore, Poetry, Musical theatre, Love, Blindness, American Gods, Art Projects, Thermostat, artwork, Hippopotamus, Graffiti\n",
      "\n",
      "Cluster 37\n",
      "WORDS: area, citi, popul, metropolitan, largest, state, metropolitan area, largest citi, unit, unit state, new, counti, million, capit, u.s.\n",
      "LABEL NAMES: Minnesota, Baton Rouge, Louisiana, Parking, Phoenix, Arizona, Rio de Janeiro, Extreme poverty, Morocco, Clinton Foundation, European Union, Flying squirrel, Panera Bread, Istanbul, Susan G. Komen for the Cure, September 11, Benghazi\n",
      "\n",
      "Cluster 38\n",
      "WORDS: health, care, health care, mental, reduc, prevent, wast, ill, diseas, human, dentistri, treatment, provid, cannabi, mental health\n",
      "LABEL NAMES: Waste, Hiking, Plumbing, Women's health, Medicine, Decriminalization of non-medical cannabis in the United States, Health and Well Being, Health & wellness, Health care industry, Mental health, Workplace health promotion, Dentist, Hospital, healthy living, Suicide awareness\n",
      "\n",
      "Cluster 39\n",
      "WORDS: sport, radio, broadcast, news, station, event, olymp, live, british, bbc, network, program, televis, race, launch\n",
      "LABEL NAMES: Ultimate Fighting Championship, Voice-over, Baby monitor, News broadcasting, John Oliver (comedian), Longboarding, Beekeeping, Covers, Martial arts, Bloody-Disgusting, Breakfast, Horses, Animal, Coral bleaching, Bullying awareness\n",
      "\n",
      "Cluster 40\n",
      "WORDS: news, repres, serv, elect, fox, born, channel, district, news channel, parti, member, governor, fox news, state, congression\n",
      "LABEL NAMES: Bernie Sanders, Chuck Schumer, Joseph P. Kennedy III, Jimmy John's, Debbie Wasserman Schultz, John Kasich, Rick Perry, governor scott walker, Angela Merkel, Greta Van Susteren, Tulsi Gabbard, Tim Kaine, oreilly factor, Gabby Giffords, Kirsten Gillibrand\n",
      "\n",
      "Cluster 41\n",
      "WORDS: univers, school, law, harvard, colleg, institut, educ, state, student, research, unit, unit state, graduat, research univers, univers locat\n",
      "LABEL NAMES: Reading, Poaching, Wife, Young-adult fiction, Statue of Liberty, Attorney general, Learning, Elizabeth Warren, Studying Law, Traffic, Militia, Karen Walker (designer), Restraining order, Money, Marc Lamont Hill\n",
      "\n",
      "Cluster 42\n",
      "WORDS: model, trump, 's, born, judg, contest, american, televis, plus-siz, beauti, execut, host, produc, known, jimmi kimmel\n",
      "LABEL NAMES: America the Beautiful, Lampshade, Project Runway, Bob's Burgers, Kim Kardashian, Jimmy Kimmel, Ciara, The Price Is Right (U.S. game show), Family, Career and Community Leaders of America, Ruby Rose, The Price Is Right, Fashion Models, Alexander Hamilton, Azealia Banks, Ashley Graham (model)\n",
      "\n",
      "Cluster 43\n",
      "WORDS: stream, medium, paint, isp, video, blockbust, provid, transmit, servic, media, internet, deliveri, use, start, entir\n",
      "LABEL NAMES: Meteoroid, Digital data, Paint, Internet service provider, Painting, Artist, Livestream, Water pollution, Spotify, Sock, Netflix, Fighter-bomber, Journalist, Internet access, Blockbuster (entertainment)\n",
      "\n",
      "Cluster 44\n",
      "WORDS: tax, servic, post, offic, googl, state, sale, incom, unit state, unit, websit, offer, postal, general, user\n",
      "LABEL NAMES: Google Docs, Police community support officer, Tax return (United States), Lyrics, Convenience store, Free Wifi, Tumblr, Pennsylvania State University, Catering, American Cancer Society, Ted Cruz, Mail Online, Infrastructure, Isis, Sponsored post\n",
      "\n",
      "Cluster 45\n",
      "WORDS: festiv, held, music, event, annual, film festiv, electron, park, week, electron music, miami, olymp, event held, relief, cannabi\n",
      "LABEL NAMES: 2020 Summer Olympics, Tour de France, Winter Olympic Games, Miami Police Department, EDM, Music festivals, Downhill mountain biking, Roofing, Yellowstone National Park, Child, TED (conference), Julia Roberts, Sequoia National Park, Tribeca Film Festival, Boston Marathon\n",
      "\n",
      "Cluster 46\n",
      "WORDS: plant, organ, flower, cannabi, use, medicin, group, seed, carbon, vari, anim, compound, green, charit organ, form\n",
      "LABEL NAMES: Placenta, Gas, Potato, Botanical garden, Pineapple, weed, Herb, Whaling, Nap, Succulent plant, Flowering plant, Medical cannabis, Sponsor (commercial), Vegetable, Tentacle\n",
      "\n",
      "Cluster 47\n",
      "WORDS: state, agenc, crime, unit, unit state, depart, feder, court, nation, state depart, law, enforc, unit state depart, act, investig\n",
      "LABEL NAMES: Federal Communications Commission, Lunch, Crime fiction, Cyber Intelligence Sharing and Protection Act, Breaking news, Google Earth, Murder Mysteries, Earth, Memphis Police Department, Astronaut, Supreme court, Federal Bureau of Prisons, Sustainable energy, Donation, Ferret\n",
      "\n",
      "Cluster 48\n",
      "WORDS: ice, cream, sugar, milk, product, fruit, ingredi, dairi, use, colour, contain, differ, cooki, flavor, drink\n",
      "LABEL NAMES: Meat, Hair products, Contrast (vision), Ice hockey, Winemaking, Dialogue, Ice cream, Espresso, Snoring, Reducer, Climbing, Sign language, Soft drinks, World of A Song of Ice and Fire, Wine\n",
      "\n",
      "Cluster 49\n",
      "WORDS: food, term, serv, restaur, prepar, use, agricultur, fast, store, meal, fast food, cook, refer, chines, consum\n",
      "LABEL NAMES: Puppy love, Internet meme, Cinnamon, Chips Ahoy!, Town hall meeting, Kung fu (term), Calorie, Farmers' market, Ministry of Agriculture, Food and Environment (Spain), American black bear, Clothing, H. J. Heinz Company, Sausage, GQ, The Mask\n",
      "\n"
     ]
    }
   ],
   "source": [
    "print_top(km, terms, frame)"
   ]
  },
  {
   "cell_type": "markdown",
   "metadata": {},
   "source": [
    "# Hierarchical document clustering"
   ]
  },
  {
   "cell_type": "code",
   "execution_count": 472,
   "metadata": {},
   "outputs": [],
   "source": [
    "from scipy.cluster.hierarchy import ward, dendrogram\n",
    "\n",
    "linkage_matrix = ward(dist) #define the linkage_matrix using ward clustering pre-computed distances"
   ]
  },
  {
   "cell_type": "code",
   "execution_count": 475,
   "metadata": {},
   "outputs": [
    {
     "data": {
      "text/plain": [
       "(4516, 4)"
      ]
     },
     "execution_count": 475,
     "metadata": {},
     "output_type": "execute_result"
    }
   ],
   "source": [
    "np.random.choice(linkage_matrix, 100)"
   ]
  },
  {
   "cell_type": "code",
   "execution_count": 473,
   "metadata": {
    "collapsed": true
   },
   "outputs": [],
   "source": [
    "fig, ax = plt.subplots(figsize=(15, 20)) # set size\n",
    "ax = dendrogram(linkage_matrix, orientation=\"right\", labels=names);\n",
    "plt.tick_params(\\\n",
    "    axis= 'x',          # changes apply to the x-axis\n",
    "    which='both',      # both major and minor ticks are affected\n",
    "    bottom='off',      # ticks along the bottom edge are off\n",
    "    top='off',         # ticks along the top edge are off\n",
    "    labelbottom='off')\n",
    "\n",
    "plt.tight_layout() #show plot with tight layout\n",
    "plt.close()"
   ]
  },
  {
   "cell_type": "markdown",
   "metadata": {},
   "source": [
    "# Latent Dirichlet Allocation"
   ]
  }
 ],
 "metadata": {
  "kernelspec": {
   "display_name": "Python 3",
   "language": "python",
   "name": "python3"
  },
  "language_info": {
   "codemirror_mode": {
    "name": "ipython",
    "version": 3
   },
   "file_extension": ".py",
   "mimetype": "text/x-python",
   "name": "python",
   "nbconvert_exporter": "python",
   "pygments_lexer": "ipython3",
   "version": "3.5.2"
  }
 },
 "nbformat": 4,
 "nbformat_minor": 2
}

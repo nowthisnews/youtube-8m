{
 "cells": [
  {
   "cell_type": "code",
   "execution_count": 1,
   "metadata": {},
   "outputs": [
    {
     "name": "stdout",
     "output_type": "stream",
     "text": [
      "data_pipeline.ipynb\r\n"
     ]
    }
   ],
   "source": []
  },
  {
   "cell_type": "markdown",
   "metadata": {},
   "source": [
    "# Load data\n",
    "## Videos data"
   ]
  },
  {
   "cell_type": "code",
   "execution_count": null,
   "metadata": {
    "collapsed": true
   },
   "outputs": [],
   "source": [
    "dbname='ds-wizards'\n",
    "user='wizard'\n",
    "host='192.95.32.117'\n",
    "password='GaG23jVxZhMnQaU53r8o'\n",
    "\n",
    "VQUERY = \"select post_id, url from videos where status='ok'\"\n",
    "\n",
    "vres = fetch(dbname, user, host, password, VQUERY)\n",
    "vres = [(post_id.split(\"_\")[1], url) for post_id, url in vres]"
   ]
  },
  {
   "cell_type": "markdown",
   "metadata": {},
   "source": [
    "## Tags"
   ]
  },
  {
   "cell_type": "code",
   "execution_count": null,
   "metadata": {
    "collapsed": true
   },
   "outputs": [],
   "source": [
    "dbname='ds-content-tags'\n",
    "user='ds-content-tags'\n",
    "password='0fXjWl592vNf1gYvIw8w'\n",
    "host='192.95.32.117'\n",
    "\n",
    "TQUERY = \"select id, tags from videos where tags is not NULL\"\n",
    "TAGS = \"select tag_id, name, path from content_tags\"\n",
    "\n",
    "tres = fetch(dbname, user, host, password, TQUERY)\n",
    "\n",
    "tags = { \n",
    "    tag_id: (name, path) for (tag_id, name, path) in fetch(\n",
    "        dbname, user, host, password, TAGS) \n",
    "}"
   ]
  },
  {
   "cell_type": "markdown",
   "metadata": {},
   "source": [
    "## Join videos with tags"
   ]
  },
  {
   "cell_type": "code",
   "execution_count": null,
   "metadata": {
    "collapsed": true
   },
   "outputs": [],
   "source": [
    "videos = inner_join(tres, vres)\n",
    "filtered, t2i, i2t = filter_videos(videos, 10)\n",
    "print(\"Found %d videos with %d unique tags\" % (len(filtered), len(t2i)))"
   ]
  },
  {
   "cell_type": "markdown",
   "metadata": {},
   "source": [
    "# TEST"
   ]
  },
  {
   "cell_type": "code",
   "execution_count": null,
   "metadata": {
    "collapsed": true
   },
   "outputs": [],
   "source": [
    "import time\n",
    "\n",
    "os.environ[\"CUDA_VISIBLE_DEVICES\"] = \"0\"\n",
    "work = filtered[:LIMIT]\n",
    "\n",
    "import time\n",
    "\n",
    "def run_and_measure(fun):\n",
    "    start_time = time.time()\n",
    "    fun()\n",
    "    end_time = time.time()\n",
    "    elapsed = end_time - start_time\n",
    "    print(\"Elapsed time was %g seconds [%g]\" % (elapsed, elapsed/len(work)))\n",
    "\n",
    "fsq = lambda : fetch_sq(work, model_path=MODEL_PATH, data_path=os.path.join(DATA_PATH, 'seq'))\n",
    "fmp = lambda : fetch_mp(work, nprod=4, model_path=MODEL_PATH, data_path=os.path.join(DATA_PATH, 'mp'))\n",
    "\n",
    "run_and_measure(fmp)"
   ]
  }
 ],
 "metadata": {
  "kernelspec": {
   "display_name": "Python 3",
   "language": "python",
   "name": "python3"
  },
  "language_info": {
   "codemirror_mode": {
    "name": "ipython",
    "version": 3
   },
   "file_extension": ".py",
   "mimetype": "text/x-python",
   "name": "python",
   "nbconvert_exporter": "python",
   "pygments_lexer": "ipython3",
   "version": "3.5.2"
  }
 },
 "nbformat": 4,
 "nbformat_minor": 2
}

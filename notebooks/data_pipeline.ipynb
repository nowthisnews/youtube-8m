{
 "cells": [
  {
   "cell_type": "code",
   "execution_count": null,
   "metadata": {
    "collapsed": true
   },
   "outputs": [],
   "source": [
    "# %load boiler_plate.py\n",
    "# reload modules when they change\n",
    "%load_ext autoreload\n",
    "%autoreload 2\n",
    "\n",
    "# Alow plotting\n",
    "%matplotlib inline\n",
    "\n",
    "# Import modules higher in folder hierarchy\n",
    "import os\n",
    "import sys\n",
    "import logging\n",
    "\n",
    "from imp import reload\n",
    "\n",
    "reload(logging)\n",
    "logging.basicConfig(format='%(asctime)s %(levelname)s:%(message)s', level=logging.INFO, datefmt='%I:%M:%S')\n",
    "\n",
    "def add_path(path):\n",
    "    if path not in sys.path:\n",
    "        sys.path.append(path)"
   ]
  },
  {
   "cell_type": "code",
   "execution_count": null,
   "metadata": {
    "collapsed": true
   },
   "outputs": [],
   "source": [
    "add_path('..')"
   ]
  },
  {
   "cell_type": "code",
   "execution_count": null,
   "metadata": {
    "collapsed": true
   },
   "outputs": [],
   "source": [
    "from pipeline.db import fetch, inner_join, filter_videos"
   ]
  },
  {
   "cell_type": "markdown",
   "metadata": {},
   "source": [
    "# Load data\n",
    "## Videos data"
   ]
  },
  {
   "cell_type": "code",
   "execution_count": null,
   "metadata": {
    "collapsed": true
   },
   "outputs": [],
   "source": [
    "dbname='ds-wizards'\n",
    "user='wizard'\n",
    "host='192.95.32.117'\n",
    "password='GaG23jVxZhMnQaU53r8o'\n",
    "\n",
    "VQUERY = \"select post_id, url from videos where status='ok'\"\n",
    "\n",
    "vres = fetch(host, dbname, user, password, VQUERY)\n",
    "vres = [(post_id.split(\"_\")[1], url) for post_id, url in vres]"
   ]
  },
  {
   "cell_type": "markdown",
   "metadata": {},
   "source": [
    "## Tags"
   ]
  },
  {
   "cell_type": "code",
   "execution_count": null,
   "metadata": {
    "collapsed": true
   },
   "outputs": [],
   "source": [
    "dbname='ds-content-tags'\n",
    "user='ds-content-tags'\n",
    "password='0fXjWl592vNf1gYvIw8w'\n",
    "host='192.95.32.117'\n",
    "\n",
    "TQUERY = \"select id, tags from videos where tags is not NULL\"\n",
    "TAGS = \"select tag_id, name, path from content_tags\"\n",
    "\n",
    "tres = fetch(host, dbname, user, password, TQUERY)\n",
    "\n",
    "tags = { \n",
    "    tag_id: (name, path) for (tag_id, name, path) in fetch(\n",
    "        host, dbname, user, password, TAGS) \n",
    "}"
   ]
  },
  {
   "cell_type": "code",
   "execution_count": null,
   "metadata": {
    "collapsed": true
   },
   "outputs": [],
   "source": [
    "import itertools\n",
    "from collections import Counter"
   ]
  },
  {
   "cell_type": "code",
   "execution_count": null,
   "metadata": {
    "collapsed": true
   },
   "outputs": [],
   "source": [
    "c = Counter(itertools.chain(*[tags for (_, tags) in tres]))\n",
    "c_min10 = sorted([(tags[k][0], v  )for k, v in c.items() if v > 10], key = lambda x: x[1], )"
   ]
  },
  {
   "cell_type": "code",
   "execution_count": null,
   "metadata": {
    "collapsed": true
   },
   "outputs": [],
   "source": [
    "Counter([len(path) for name, path in tags.values()])"
   ]
  },
  {
   "cell_type": "code",
   "execution_count": null,
   "metadata": {
    "collapsed": true
   },
   "outputs": [],
   "source": [
    "[(name, path) for name, path in tags.values() if len(path) == 2]"
   ]
  },
  {
   "cell_type": "markdown",
   "metadata": {},
   "source": [
    "## Join videos with tags"
   ]
  },
  {
   "cell_type": "code",
   "execution_count": null,
   "metadata": {
    "collapsed": true
   },
   "outputs": [],
   "source": [
    "videos = list(inner_join(tres, vres))\n",
    "filtered, t2i, i2t = filter_videos(videos, 10)\n",
    "print(\"Found %d videos with %d unique tags\" % (len(filtered), len(t2i)))"
   ]
  },
  {
   "cell_type": "markdown",
   "metadata": {},
   "source": [
    "# DbPedia"
   ]
  },
  {
   "cell_type": "code",
   "execution_count": null,
   "metadata": {
    "collapsed": true
   },
   "outputs": [],
   "source": [
    "import requests\n",
    "\n",
    "from urllib.parse import quote\n",
    "from xml.etree import ElementTree"
   ]
  },
  {
   "cell_type": "code",
   "execution_count": null,
   "metadata": {
    "collapsed": true
   },
   "outputs": [],
   "source": [
    "XMLSN = \"{http://lookup.dbpedia.org/}\"\n",
    "DBPEDIA_QUERY = \"http://lookup.dbpedia.org/api/search/KeywordSearch?&QueryString=%s\"\n",
    "LABEL_PATH = \".//{0}Label\".format(XMLSN)\n",
    "DESCRIPTION_PATH = \"{0}Description\".format(XMLSN)\n",
    "RESULT = \"{0}Result\".format(XMLSN)"
   ]
  },
  {
   "cell_type": "code",
   "execution_count": null,
   "metadata": {
    "collapsed": true
   },
   "outputs": [],
   "source": [
    "import re\n",
    "\n",
    "def keep(label):\n",
    "    if \"owl#Thing\" in label:\n",
    "        return False\n",
    "    \n",
    "    if \"from\" in label:\n",
    "        return False\n",
    "    \n",
    "    if \"births\" in label:\n",
    "        return False\n",
    "    \n",
    "    if \"xmlns\" in label:\n",
    "        return False\n",
    "    \n",
    "    if re.search(r\"american people of [a-z]* descent\", label):\n",
    "        return False\n",
    "    \n",
    "    return True\n",
    "\n",
    "def normalise(label):\n",
    "    label = label.lower()\n",
    "    \n",
    "    return label"
   ]
  },
  {
   "cell_type": "code",
   "execution_count": null,
   "metadata": {
    "collapsed": true
   },
   "outputs": [],
   "source": [
    "def dbpedia_labels(tag, only_first = True):\n",
    "    response = requests.get(DBPEDIA_QUERY % quote(tag))\n",
    "    tree = ElementTree.fromstring(response.content)\n",
    "\n",
    "    # It there no resutls, return tag and empy list\n",
    "    if not tree.findall(RESULT):\n",
    "        raise NameError\n",
    "\n",
    "    tree = tree[0] if only_first else tree\n",
    "\n",
    "    # Fetch labels form xml\n",
    "    labels = [label.text for label in tree.findall(LABEL_PATH)]\n",
    "\n",
    "    # Clean labels\n",
    "    labels = [normalise(label) for label in labels if keep(label)]\n",
    "\n",
    "    # Remove duplicates\n",
    "    labels = list(set(labels))\n",
    "\n",
    "    # Get Description\n",
    "    description = tree.find(DESCRIPTION_PATH).text\n",
    "    description = description.strip() if description else tag\n",
    "    \n",
    "    return description, labels"
   ]
  },
  {
   "cell_type": "markdown",
   "metadata": {},
   "source": [
    "# Explore DbPedia tags"
   ]
  },
  {
   "cell_type": "code",
   "execution_count": null,
   "metadata": {
    "collapsed": true
   },
   "outputs": [],
   "source": [
    "for tag_id, (name, path) in itertools.islice(tags.items(), 3):\n",
    "    try:\n",
    "        desc, labels =  dbpedia_labels(name)\n",
    "        print(\"%s | %s | \\n%s\" % (tag_id, name, desc))\n",
    "        for label in labels:\n",
    "            print(\"\\t %s\" % label)\n",
    "    except NameError:\n",
    "        print(\"[Exception] Could not find tags for %s\" % name)"
   ]
  },
  {
   "cell_type": "code",
   "execution_count": null,
   "metadata": {
    "collapsed": true
   },
   "outputs": [],
   "source": [
    "def make_t2l(tags, logging_step=100, only_first = True):\n",
    "    t2l = {}\n",
    "    for index, tag_id in enumerate(tags):\n",
    "        name, path =  tags[tag_id]\n",
    "        if index % logging_step == 0:\n",
    "            print(\"[%d] Fetching info for %s object in dbpedia\" % (index, name))\n",
    "        \n",
    "        try:\n",
    "            t2l[tag_id] = dbpedia_labels(name, only_first)\n",
    "        except NameError:\n",
    "            print(\"Could not find label for tag %s\" % name)\n",
    "        except Exception as e:\n",
    "            print(\"Exception for %s [%s]\" % name, e.message)\n",
    "        \n",
    "    return t2l"
   ]
  },
  {
   "cell_type": "code",
   "execution_count": null,
   "metadata": {
    "collapsed": true
   },
   "outputs": [],
   "source": [
    "t2l = make_t2l(tags)"
   ]
  },
  {
   "cell_type": "code",
   "execution_count": null,
   "metadata": {
    "collapsed": true
   },
   "outputs": [],
   "source": [
    "labels_raw = itertools.chain(*[set(labels) for (tag_id, (desc, labels)) in t2l.items()])\n",
    "labels_raw = [normalise(label) for label in labels_raw if keep(label)]\n",
    "labels = Counter(labels_raw)"
   ]
  },
  {
   "cell_type": "code",
   "execution_count": null,
   "metadata": {
    "collapsed": true
   },
   "outputs": [],
   "source": [
    "# Get filterd and raw key\n",
    "keys = set(t2l).intersection(set(tags))"
   ]
  },
  {
   "cell_type": "code",
   "execution_count": null,
   "metadata": {},
   "outputs": [],
   "source": [
    "from collections import namedtuple\n",
    "\n",
    "# define tag named tuple\n",
    "Tag = namedtuple('Tag', ['id', 'name', 'description', 'labels'], verbose=True)\n",
    "\n",
    "# create list of joined tags\n",
    "joined_tags = {k: Tag(k, tags[k][0], t2l[k][0], t2l[k][1])  for k in keys }"
   ]
  },
  {
   "cell_type": "code",
   "execution_count": null,
   "metadata": {},
   "outputs": [],
   "source": [
    "for tag_id, tag in itertools.islice(joined_tags.items(), 3):\n",
    "    print(\"%s | %s | \\n%s\" % (tag_id, tag.name, tag.description))\n",
    "    for label in tag.labels:\n",
    "        print(\"\\t %s\" % label)"
   ]
  },
  {
   "cell_type": "markdown",
   "metadata": {},
   "source": [
    "# IO"
   ]
  },
  {
   "cell_type": "code",
   "execution_count": null,
   "metadata": {
    "collapsed": true
   },
   "outputs": [],
   "source": [
    "import pickle"
   ]
  },
  {
   "cell_type": "markdown",
   "metadata": {},
   "source": [
    "## Save tags"
   ]
  },
  {
   "cell_type": "code",
   "execution_count": null,
   "metadata": {
    "collapsed": true
   },
   "outputs": [],
   "source": [
    "with open(\"/data/video/dbpedia_tags.pickle\", \"wb\") as handle:\n",
    "    pickle.dump(t2l, handle)"
   ]
  },
  {
   "cell_type": "code",
   "execution_count": null,
   "metadata": {
    "collapsed": true
   },
   "outputs": [],
   "source": [
    "with open(\"/data/video/tag_list.pickle\", \"wb\") as handle:\n",
    "    pickle.dump(joined_tags, handle)"
   ]
  },
  {
   "cell_type": "markdown",
   "metadata": {},
   "source": [
    "## Load tags"
   ]
  },
  {
   "cell_type": "code",
   "execution_count": null,
   "metadata": {
    "collapsed": true
   },
   "outputs": [],
   "source": [
    "with open(\"/data/video/dbpedia_tags.pickle\", \"rb\") as handle:\n",
    "    t2l = pickle.load(handle)"
   ]
  }
 ],
 "metadata": {
  "kernelspec": {
   "display_name": "Python 3",
   "language": "python",
   "name": "python3"
  },
  "language_info": {
   "codemirror_mode": {
    "name": "ipython",
    "version": 3
   },
   "file_extension": ".py",
   "mimetype": "text/x-python",
   "name": "python",
   "nbconvert_exporter": "python",
   "pygments_lexer": "ipython3",
   "version": "3.5.2"
  }
 },
 "nbformat": 4,
 "nbformat_minor": 2
}

{
 "cells": [
  {
   "cell_type": "code",
   "execution_count": null,
   "metadata": {
    "collapsed": true
   },
   "outputs": [],
   "source": [
    "# %load boiler_plate.py\n",
    "# reload modules when they change\n",
    "%load_ext autoreload\n",
    "%autoreload 2\n",
    "\n",
    "# Alow plotting\n",
    "%matplotlib inline\n",
    "\n",
    "# Import modules higher in folder hierarchy\n",
    "import os\n",
    "import sys\n",
    "\n",
    "\n",
    "def add_path(path):\n",
    "    if path not in sys.path:\n",
    "        sys.path.append(path)\n"
   ]
  },
  {
   "cell_type": "code",
   "execution_count": null,
   "metadata": {
    "collapsed": true
   },
   "outputs": [],
   "source": [
    "add_path('..')"
   ]
  },
  {
   "cell_type": "code",
   "execution_count": null,
   "metadata": {
    "collapsed": true
   },
   "outputs": [],
   "source": [
    "from pipeline.db import fetch, inner_join, filter_videos"
   ]
  },
  {
   "cell_type": "markdown",
   "metadata": {},
   "source": [
    "# Load data\n",
    "## Videos data"
   ]
  },
  {
   "cell_type": "code",
   "execution_count": null,
   "metadata": {
    "collapsed": true
   },
   "outputs": [],
   "source": [
    "dbname='ds-wizards'\n",
    "user='wizard'\n",
    "host='192.95.32.117'\n",
    "password='GaG23jVxZhMnQaU53r8o'\n",
    "\n",
    "VQUERY = \"select post_id, url from videos where status='ok'\"\n",
    "\n",
    "vres = fetch(host, dbname, user, password, VQUERY)\n",
    "vres = [(post_id.split(\"_\")[1], url) for post_id, url in vres]"
   ]
  },
  {
   "cell_type": "markdown",
   "metadata": {},
   "source": [
    "## Tags"
   ]
  },
  {
   "cell_type": "code",
   "execution_count": null,
   "metadata": {
    "collapsed": true
   },
   "outputs": [],
   "source": [
    "dbname='ds-content-tags'\n",
    "user='ds-content-tags'\n",
    "password='0fXjWl592vNf1gYvIw8w'\n",
    "host='192.95.32.117'\n",
    "\n",
    "TQUERY = \"select id, tags from videos where tags is not NULL\"\n",
    "TAGS = \"select tag_id, name, path from content_tags\"\n",
    "\n",
    "tres = fetch(host, dbname, user, password, TQUERY)\n",
    "\n",
    "tags = { \n",
    "    tag_id: (name, path) for (tag_id, name, path) in fetch(\n",
    "        host, dbname, user, password, TAGS) \n",
    "}"
   ]
  },
  {
   "cell_type": "code",
   "execution_count": null,
   "metadata": {
    "collapsed": true
   },
   "outputs": [],
   "source": [
    "import itertools\n",
    "from collections import Counter"
   ]
  },
  {
   "cell_type": "code",
   "execution_count": null,
   "metadata": {
    "collapsed": true
   },
   "outputs": [],
   "source": [
    "c = Counter(itertools.chain(*[tags for (_, tags) in tres]))\n",
    "c_min10 = sorted([(tags[k][0], v  )for k, v in c.items() if v > 10], key = lambda x: x[1], )"
   ]
  },
  {
   "cell_type": "code",
   "execution_count": null,
   "metadata": {
    "collapsed": true
   },
   "outputs": [],
   "source": [
    "Counter([len(path) for name, path in tags.values()])"
   ]
  },
  {
   "cell_type": "code",
   "execution_count": null,
   "metadata": {
    "collapsed": true
   },
   "outputs": [],
   "source": [
    "[(name, path) for name, path in tags.values() if len(path) == 2]"
   ]
  },
  {
   "cell_type": "markdown",
   "metadata": {},
   "source": [
    "## Join videos with tags"
   ]
  },
  {
   "cell_type": "code",
   "execution_count": null,
   "metadata": {
    "collapsed": true
   },
   "outputs": [],
   "source": [
    "videos = list(inner_join(tres, vres))\n",
    "filtered, t2i, i2t = filter_videos(videos, 10)\n",
    "print(\"Found %d videos with %d unique tags\" % (len(filtered), len(t2i)))"
   ]
  },
  {
   "cell_type": "code",
   "execution_count": null,
   "metadata": {
    "collapsed": true
   },
   "outputs": [],
   "source": [
    "len(filtered), len(t2i)"
   ]
  },
  {
   "cell_type": "code",
   "execution_count": null,
   "metadata": {
    "collapsed": true
   },
   "outputs": [],
   "source": [
    "len(videos)"
   ]
  },
  {
   "cell_type": "code",
   "execution_count": null,
   "metadata": {
    "collapsed": true
   },
   "outputs": [],
   "source": [
    "# Take only the most common class from the list\n",
    "import math\n",
    "\n",
    "c = Counter([min([t2i.get(t, math.inf) for t in tags]) \n",
    "             for (id, tags, url) in videos])"
   ]
  },
  {
   "cell_type": "code",
   "execution_count": null,
   "metadata": {
    "collapsed": true
   },
   "outputs": [],
   "source": [
    "# Check the new size of the classes\n",
    "len(c)"
   ]
  },
  {
   "cell_type": "markdown",
   "metadata": {},
   "source": [
    "# DbPedia"
   ]
  },
  {
   "cell_type": "code",
   "execution_count": null,
   "metadata": {
    "collapsed": true
   },
   "outputs": [],
   "source": [
    "import requests\n",
    "\n",
    "from urllib.parse import quote\n",
    "from xml.etree import ElementTree"
   ]
  },
  {
   "cell_type": "code",
   "execution_count": null,
   "metadata": {
    "collapsed": true
   },
   "outputs": [],
   "source": [
    "XMLSN = \"{http://lookup.dbpedia.org/}\"\n",
    "DBPEDIA_QUERY = \"http://lookup.dbpedia.org/api/search/KeywordSearch?&QueryString=%s\"\n",
    "LABEL_PATH = \".//{0}Label\".format(XMLSN)\n",
    "DESCRIPTION_PATH = \"{0}Description\".format(XMLSN)\n",
    "RESULT = \"{0}Result\".format(XMLSN)"
   ]
  },
  {
   "cell_type": "code",
   "execution_count": null,
   "metadata": {
    "collapsed": true
   },
   "outputs": [],
   "source": [
    "import re\n",
    "\n",
    "def keep(label):\n",
    "    if \"owl#Thing\" in label:\n",
    "        return False\n",
    "    \n",
    "    if \"from\" in label:\n",
    "        return False\n",
    "    \n",
    "    if \"births\" in label:\n",
    "        return False\n",
    "    \n",
    "    if \"xmlns\" in label:\n",
    "        return False\n",
    "    \n",
    "    if re.search(r\"american people of [a-z]* descent\", label):\n",
    "        return False\n",
    "    \n",
    "    return True\n",
    "\n",
    "def normalise(label):\n",
    "    label = label.lower()\n",
    "    \n",
    "    return label"
   ]
  },
  {
   "cell_type": "code",
   "execution_count": null,
   "metadata": {
    "collapsed": true
   },
   "outputs": [],
   "source": [
    "def dbpedia_labels(tag, only_first = True):\n",
    "    response = requests.get(DBPEDIA_QUERY % quote(tag))\n",
    "    tree = ElementTree.fromstring(response.content)\n",
    "\n",
    "    # It there no resutls, return tag and empy list\n",
    "    if not tree.findall(RESULT):\n",
    "        raise NameError\n",
    "\n",
    "    tree = tree[0] if only_first else tree\n",
    "\n",
    "    # Fetch labels form xml\n",
    "    labels = [label.text for label in tree.findall(LABEL_PATH)]\n",
    "\n",
    "    # Clean labels\n",
    "    labels = [normalise(label) for label in labels if keep(label)]\n",
    "\n",
    "    # Remove duplicates\n",
    "    labels = list(set(labels))\n",
    "\n",
    "    # Get Description\n",
    "    description = tree.find(DESCRIPTION_PATH).text\n",
    "    description = description.strip() if description else tag\n",
    "    \n",
    "    return description, labels"
   ]
  },
  {
   "cell_type": "markdown",
   "metadata": {},
   "source": [
    "# Explore DbPedia tags"
   ]
  },
  {
   "cell_type": "code",
   "execution_count": null,
   "metadata": {
    "collapsed": true
   },
   "outputs": [],
   "source": [
    "for tag_id, (name, path) in itertools.islice(tags.items(), 3):\n",
    "    try:\n",
    "        desc, labels =  dbpedia_labels(name)\n",
    "        print(\"%s | %s | \\n%s\" % (tag_id, name, desc))\n",
    "        for label in labels:\n",
    "            print(\"\\t %s\" % label)\n",
    "    except NameError:\n",
    "        print(\"[Exception] Could not find tags for %s\" % name)"
   ]
  },
  {
   "cell_type": "code",
   "execution_count": null,
   "metadata": {
    "collapsed": true
   },
   "outputs": [],
   "source": [
    "def make_t2l(tags, logging_step=100, only_first = True):\n",
    "    t2l = {}\n",
    "    for index, tag_id in enumerate(tags):\n",
    "        name, path =  tags[tag_id]\n",
    "        if index % logging_step == 0:\n",
    "            print(\"[%d] Fetching info for %s object in dbpedia\" % (index, name))\n",
    "        \n",
    "        try:\n",
    "            t2l[tag_id] = dbpedia_labels(name, only_first)\n",
    "        except NameError:\n",
    "            print(\"Could not find label for tag %s\" % name)\n",
    "        except Exception as e:\n",
    "            print(\"Exception for %s [%s]\" % name, e.message)\n",
    "        \n",
    "    return t2l"
   ]
  },
  {
   "cell_type": "code",
   "execution_count": null,
   "metadata": {
    "collapsed": true
   },
   "outputs": [],
   "source": [
    "t2l = make_t2l(tags)"
   ]
  },
  {
   "cell_type": "code",
   "execution_count": null,
   "metadata": {
    "collapsed": true
   },
   "outputs": [],
   "source": [
    "labels_raw = itertools.chain(*[set(labels) for (tag_id, (desc, labels)) in t2l.items()])\n",
    "labels_raw = [normalise(label) for label in labels_raw if keep(label)]\n",
    "labels = Counter(labels_raw)"
   ]
  },
  {
   "cell_type": "code",
   "execution_count": null,
   "metadata": {
    "collapsed": true
   },
   "outputs": [],
   "source": [
    "labels_top100 = set([name for name, count in labels.most_common()[:100]])"
   ]
  },
  {
   "cell_type": "code",
   "execution_count": null,
   "metadata": {
    "collapsed": true
   },
   "outputs": [],
   "source": [
    "t2l_top100 = {}\n",
    "for tag_id, (desc, labels) in t2l.items():\n",
    "    labels = [label for label in labels if label in labels_top100]\n",
    "    if labels:\n",
    "        t2l_top100[tag_id] = labels"
   ]
  },
  {
   "cell_type": "code",
   "execution_count": null,
   "metadata": {
    "collapsed": true
   },
   "outputs": [],
   "source": [
    "# Get filterd and raw key\n",
    "keys_top100 = set(t2l_top100).intersection(set(tags))\n",
    "keys = set(t2l).intersection(set(tags))"
   ]
  },
  {
   "cell_type": "code",
   "execution_count": null,
   "metadata": {
    "collapsed": true
   },
   "outputs": [],
   "source": [
    "from collections import namedtuple"
   ]
  },
  {
   "cell_type": "code",
   "execution_count": null,
   "metadata": {
    "collapsed": true
   },
   "outputs": [],
   "source": [
    "Tag = namedtuple('Tag', ['id', 'name', 'description', 'labels'], verbose=True)"
   ]
  },
  {
   "cell_type": "code",
   "execution_count": null,
   "metadata": {
    "collapsed": true
   },
   "outputs": [],
   "source": [
    "joined_tags = {k: Tag(k, tags[k][0], t2l[k][0], t2l[k][1])  for k in keys }"
   ]
  },
  {
   "cell_type": "code",
   "execution_count": null,
   "metadata": {
    "collapsed": true
   },
   "outputs": [],
   "source": [
    "len(keys)"
   ]
  },
  {
   "cell_type": "code",
   "execution_count": null,
   "metadata": {
    "collapsed": true
   },
   "outputs": [],
   "source": [
    "len(joined_tags)"
   ]
  },
  {
   "cell_type": "code",
   "execution_count": null,
   "metadata": {
    "collapsed": true
   },
   "outputs": [],
   "source": [
    "for tag_id, tag in itertools.islice(joined_tags.items(), 3):\n",
    "    print(\"%s | %s | \\n%s\" % (tag_id, tag.name, tag.description))\n",
    "    for label in tag.labels:\n",
    "        print(\"\\t %s\" % label)"
   ]
  },
  {
   "cell_type": "markdown",
   "metadata": {},
   "source": [
    "# IO"
   ]
  },
  {
   "cell_type": "code",
   "execution_count": null,
   "metadata": {
    "collapsed": true
   },
   "outputs": [],
   "source": [
    "import pickle"
   ]
  },
  {
   "cell_type": "markdown",
   "metadata": {},
   "source": [
    "## Save tags"
   ]
  },
  {
   "cell_type": "code",
   "execution_count": null,
   "metadata": {
    "collapsed": true
   },
   "outputs": [],
   "source": [
    "with open(\"/data/video/dbpedia_tags.pickle\", \"wb\") as handle:\n",
    "    pickle.dump(t2l, handle)"
   ]
  },
  {
   "cell_type": "markdown",
   "metadata": {},
   "source": [
    "## Load tags"
   ]
  },
  {
   "cell_type": "code",
   "execution_count": null,
   "metadata": {
    "collapsed": true
   },
   "outputs": [],
   "source": [
    "with open(\"/data/video/dbpedia_tags.pickle\", \"rb\") as handle:\n",
    "    t2l = pickle.load(handle)"
   ]
  },
  {
   "cell_type": "markdown",
   "metadata": {},
   "source": [
    "# Clustering"
   ]
  },
  {
   "cell_type": "code",
   "execution_count": null,
   "metadata": {
    "collapsed": true
   },
   "outputs": [],
   "source": [
    "import spacy\n",
    "nlp = spacy.load('en')"
   ]
  },
  {
   "cell_type": "code",
   "execution_count": 891,
   "metadata": {
    "collapsed": true
   },
   "outputs": [],
   "source": [
    "import nltk\n",
    "from nltk.stem.snowball import SnowballStemmer\n",
    "from stop_words import get_stop_words\n",
    "\n",
    "# load nltk's English stopwords as variable called 'stopwords'\n",
    "stopwords = set(nltk.corpus.stopwords.words('english')+ get_stop_words('en') +[\"-PRON-\"])\n",
    "\n",
    "# load nltk's SnowballStemmer as variabled 'stemmer'\n",
    "stemmer = SnowballStemmer(\"english\")\n",
    "\n",
    "def filer_tokens(tokens, filter_stopwords=True):\n",
    "    filtered = []\n",
    "    # filter out any tokens not containing letters (e.g., numeric tokens, raw punctuation)\n",
    "    for token in tokens:\n",
    "        if re.search('[a-zA-Z]', token):\n",
    "            filtered.append(token)\n",
    "    \n",
    "    # remove stop words\n",
    "    if filter_stopwords:\n",
    "        filtered = [token for token in filtered if token not in stopwords]\n",
    "            \n",
    "    return filtered\n",
    "    \n",
    "def tokenize_and_stem(text):\n",
    "    tokens = [word.lower() for sent in nltk.sent_tokenize(text) for word in nltk.word_tokenize(sent)]\n",
    "    filtered_tokens = filer_tokens(tokens)\n",
    "    stems = [stemmer.stem(t) for t in filtered_tokens]\n",
    "    return stems\n",
    "\n",
    "def tokenize_only(text):\n",
    "    tokens = [word.lower() for sent in nltk.sent_tokenize(text) for word in nltk.word_tokenize(sent)]\n",
    "    filtered_tokens = filer_tokens(tokens)\n",
    "    return filtered_tokens\n",
    "\n",
    "def tokenize_and_lem(text):\n",
    "    tokens = [token.lemma_ for token in nlp(text)]\n",
    "    filtered_tokens = filer_tokens(tokens)\n",
    "    return filtered_tokens"
   ]
  },
  {
   "cell_type": "code",
   "execution_count": 892,
   "metadata": {
    "collapsed": true
   },
   "outputs": [],
   "source": [
    "example = \"The Log Cabin Republicans (LCR) is an organization that works within the Republican Party to advocate equal rights for all Americans, including gays and lesbians in the United States. The group's constituency supports the Republican Party and advocates for the rights of gay and lesbian Americans. LCR is the only Republican organization dedicated to representing the interests of LGBT Americans and their allies.\""
   ]
  },
  {
   "cell_type": "code",
   "execution_count": 893,
   "metadata": {},
   "outputs": [
    {
     "name": "stdout",
     "output_type": "stream",
     "text": [
      "The Log Cabin Republicans (LCR) is an organization that works within the Republican Party to advocate equal rights for all Americans, including gays and lesbians in the United States. The group's constituency supports the Republican Party and advocates for the rights of gay and lesbian Americans. LCR is the only Republican organization dedicated to representing the interests of LGBT Americans and their allies.\n"
     ]
    }
   ],
   "source": [
    "print(example)"
   ]
  },
  {
   "cell_type": "code",
   "execution_count": 894,
   "metadata": {},
   "outputs": [
    {
     "data": {
      "text/plain": [
       "\"log cabin republicans lcr organization works within republican party advocate equal rights americans including gays lesbians united states group 's constituency supports republican party advocates rights gay lesbian americans lcr republican organization dedicated representing interests lgbt americans allies\""
      ]
     },
     "execution_count": 894,
     "metadata": {},
     "output_type": "execute_result"
    }
   ],
   "source": [
    "\" \".join(tokenize_only(example))"
   ]
  },
  {
   "cell_type": "code",
   "execution_count": 895,
   "metadata": {},
   "outputs": [
    {
     "data": {
      "text/plain": [
       "\"log cabin republican lcr organ work within republican parti advoc equal right american includ gay lesbian unit state group 's constitu support republican parti advoc right gay lesbian american lcr republican organ dedic repres interest lgbt american alli\""
      ]
     },
     "execution_count": 895,
     "metadata": {},
     "output_type": "execute_result"
    }
   ],
   "source": [
    "\" \".join(tokenize_and_stem(example))"
   ]
  },
  {
   "cell_type": "code",
   "execution_count": 896,
   "metadata": {},
   "outputs": [
    {
     "data": {
      "text/plain": [
       "\"log cabin republicans lcr organization work within republican party advocate equal right americans include gay lesbian united states group 's constituency support republican party advocate right gay lesbian americans lcr republican organization dedicate represent interest lgbt americans ally\""
      ]
     },
     "execution_count": 896,
     "metadata": {},
     "output_type": "execute_result"
    }
   ],
   "source": [
    "\" \".join(tokenize_and_lem(example))"
   ]
  },
  {
   "cell_type": "markdown",
   "metadata": {},
   "source": [
    "# TF-IDF and document similarity"
   ]
  },
  {
   "cell_type": "code",
   "execution_count": 928,
   "metadata": {
    "collapsed": true
   },
   "outputs": [],
   "source": [
    "import numpy as np"
   ]
  },
  {
   "cell_type": "code",
   "execution_count": 929,
   "metadata": {
    "collapsed": true
   },
   "outputs": [],
   "source": [
    "# Cluster only on descriptions\n",
    "descriptions = [tag.description for tag in joined_tags.values()]\n",
    "\n",
    "# Cluster only on labels\n",
    "labels = [\" \".join(tag.labels) for tag in joined_tags.values()]\n",
    "\n",
    "# Cluster on both\n",
    "descriptions_and_labels = [\"%s %s\" % tup for tup in zip(descriptions, labels)]\n",
    "\n",
    "# Names\n",
    "names = [tag.name for tag in joined_tags.values()]"
   ]
  },
  {
   "cell_type": "code",
   "execution_count": 930,
   "metadata": {},
   "outputs": [
    {
     "name": "stdout",
     "output_type": "stream",
     "text": [
      "CPU times: user 5.85 s, sys: 32 ms, total: 5.88 s\n",
      "Wall time: 5.89 s\n",
      "(4517, 539)\n"
     ]
    }
   ],
   "source": [
    "from sklearn.feature_extraction.text import TfidfVectorizer\n",
    "\n",
    "#define vectorizer parameters\n",
    "tfidf_vectorizer = TfidfVectorizer(max_df=0.9, min_df=0.01,\n",
    "                                   max_features=200000, stop_words='english', \n",
    "                                   use_idf=True, tokenizer=tokenize_and_stem, ngram_range=(1,1))\n",
    "\n",
    "%time tfidf_matrix = tfidf_vectorizer.fit_transform(descriptions)\n",
    "print(tfidf_matrix.shape)"
   ]
  },
  {
   "cell_type": "code",
   "execution_count": 900,
   "metadata": {
    "collapsed": true
   },
   "outputs": [],
   "source": [
    "terms = tfidf_vectorizer.get_feature_names()"
   ]
  },
  {
   "cell_type": "markdown",
   "metadata": {},
   "source": [
    "# K-means clustering"
   ]
  },
  {
   "cell_type": "code",
   "execution_count": 901,
   "metadata": {
    "collapsed": true
   },
   "outputs": [],
   "source": [
    "from collections import Counter \n",
    "import numpy as np\n",
    "import matplotlib.pyplot as plt\n",
    "\n",
    "def barplot(clusters):\n",
    "    x_labels, values = zip(*Counter(clusters).items())\n",
    "\n",
    "    indexes = np.arange(len(x_labels))\n",
    "    width = 0.5\n",
    "    plt.figure(figsize=(20, 5))\n",
    "    plt.bar(indexes, values, width)\n",
    "    plt.xticks(indexes, x_labels)\n",
    "    plt.show()\n",
    "    \n",
    "def print_top(km, terms, frame, ntop_words = 15, n_labels = 15):\n",
    "    print(\"Top terms per cluster:\")\n",
    "    #sort cluster centers by proximity to centroid\n",
    "    order_centroids = km.cluster_centers_.argsort()[:, ::-1] \n",
    "\n",
    "    for i in range(km.n_clusters):\n",
    "        top_words = [terms[i] for i in order_centroids[i, :ntop_words]]\n",
    "        sample_labels = frame.ix[i]['names'][:n_labels].values\n",
    "\n",
    "        print(\"Cluster %d\" % i)\n",
    "        print('WORDS: %s' % ', '.join(top_words))\n",
    "        print(\"LABEL NAMES: %s\" % \", \".join(sample_labels))\n",
    "        print() #add whitespace"
   ]
  },
  {
   "cell_type": "code",
   "execution_count": 902,
   "metadata": {},
   "outputs": [
    {
     "name": "stdout",
     "output_type": "stream",
     "text": [
      "CPU times: user 11.1 s, sys: 12 ms, total: 11.1 s\n",
      "Wall time: 11.1 s\n"
     ]
    },
    {
     "data": {
      "text/plain": [
       "KMeans(algorithm='auto', copy_x=True, init='k-means++', max_iter=300,\n",
       "    n_clusters=25, n_init=10, n_jobs=1, precompute_distances='auto',\n",
       "    random_state=None, tol=0.0001, verbose=0)"
      ]
     },
     "execution_count": 902,
     "metadata": {},
     "output_type": "execute_result"
    }
   ],
   "source": [
    "from sklearn.cluster import KMeans\n",
    "num_clusters = 25\n",
    "km = KMeans(n_clusters=num_clusters)\n",
    "\n",
    "%time km.fit(tfidf_matrix)"
   ]
  },
  {
   "cell_type": "code",
   "execution_count": 903,
   "metadata": {
    "collapsed": true
   },
   "outputs": [],
   "source": [
    "clusters = km.labels_.tolist()"
   ]
  },
  {
   "cell_type": "code",
   "execution_count": 904,
   "metadata": {},
   "outputs": [
    {
     "data": {
      "image/png": "[encoded data removed]",
      "text/plain": [
       "<matplotlib.figure.Figure at 0x7faa91b2a438>"
      ]
     },
     "metadata": {},
     "output_type": "display_data"
    }
   ],
   "source": [
    "barplot(clusters)"
   ]
  },
  {
   "cell_type": "code",
   "execution_count": 905,
   "metadata": {
    "collapsed": true
   },
   "outputs": [],
   "source": [
    "data = { 'names': names, 'descriptions': descriptions_and_labels, 'labels': labels}\n",
    "\n",
    "frame = pd.DataFrame(data, index = [clusters] , columns = ['names', 'descriptions', 'labels'])"
   ]
  },
  {
   "cell_type": "code",
   "execution_count": 906,
   "metadata": {},
   "outputs": [
    {
     "data": {
      "text/html": [
       "<div>\n",
       "<table border=\"1\" class=\"dataframe\">\n",
       "  <thead>\n",
       "    <tr style=\"text-align: right;\">\n",
       "      <th></th>\n",
       "      <th>names</th>\n",
       "      <th>descriptions</th>\n",
       "      <th>labels</th>\n",
       "    </tr>\n",
       "  </thead>\n",
       "  <tbody>\n",
       "    <tr>\n",
       "      <th>12</th>\n",
       "      <td>Google Docs</td>\n",
       "      <td>Google Docs (now known as Google Drive) is a f...</td>\n",
       "      <td>web 2.0 online word processors collaboration o...</td>\n",
       "    </tr>\n",
       "    <tr>\n",
       "      <th>12</th>\n",
       "      <td>Lunch</td>\n",
       "      <td>Extortion (also called blackmail, shakedown, o...</td>\n",
       "      <td>extortion illegal occupations crimes organized...</td>\n",
       "    </tr>\n",
       "    <tr>\n",
       "      <th>12</th>\n",
       "      <td>Texting</td>\n",
       "      <td>Short Message Service (SMS) is a text messagin...</td>\n",
       "      <td>short message service text messaging 3rd gener...</td>\n",
       "    </tr>\n",
       "    <tr>\n",
       "      <th>12</th>\n",
       "      <td>Internet service provider</td>\n",
       "      <td>An Internet service provider (ISP) is an organ...</td>\n",
       "      <td>internet service providers internet service pr...</td>\n",
       "    </tr>\n",
       "    <tr>\n",
       "      <th>12</th>\n",
       "      <td>The Home Depot</td>\n",
       "      <td>The Home Depot is an American retailer of home...</td>\n",
       "      <td>companies based in atlanta, georgia dow jones ...</td>\n",
       "    </tr>\n",
       "    <tr>\n",
       "      <th>12</th>\n",
       "      <td>Manicure</td>\n",
       "      <td>A manicure is a cosmetic beauty treatment for ...</td>\n",
       "      <td>body modification nail care manicure</td>\n",
       "    </tr>\n",
       "    <tr>\n",
       "      <th>12</th>\n",
       "      <td>Sponsor (commercial)</td>\n",
       "      <td>To sponsor something is to support an event, a...</td>\n",
       "      <td>sponsor (commercial) advertising television te...</td>\n",
       "    </tr>\n",
       "    <tr>\n",
       "      <th>12</th>\n",
       "      <td>Bus</td>\n",
       "      <td>Public transport (also public transportation o...</td>\n",
       "      <td>transport sustainable transport public transpo...</td>\n",
       "    </tr>\n",
       "    <tr>\n",
       "      <th>12</th>\n",
       "      <td>Militia</td>\n",
       "      <td>The term militia, or irregular army, is common...</td>\n",
       "      <td>paramilitary organizations rebel militia group...</td>\n",
       "    </tr>\n",
       "    <tr>\n",
       "      <th>12</th>\n",
       "      <td>Free Wifi</td>\n",
       "      <td>A hotspot is a site that offers Internet acces...</td>\n",
       "      <td>wireless access points wi-fi hotspot (wi-fi)</td>\n",
       "    </tr>\n",
       "    <tr>\n",
       "      <th>12</th>\n",
       "      <td>Tumblr</td>\n",
       "      <td>Tumblr is a microblogging platform and social ...</td>\n",
       "      <td>social networking services tumblr organization...</td>\n",
       "    </tr>\n",
       "    <tr>\n",
       "      <th>12</th>\n",
       "      <td>World News</td>\n",
       "      <td>The BBC World Service is the world's largest i...</td>\n",
       "      <td>bbc world service xm satellite radio channels ...</td>\n",
       "    </tr>\n",
       "    <tr>\n",
       "      <th>12</th>\n",
       "      <td>Nokia</td>\n",
       "      <td>Nokia Corporation is a multinational communica...</td>\n",
       "      <td>companies of finland companies based in espoo ...</td>\n",
       "    </tr>\n",
       "    <tr>\n",
       "      <th>12</th>\n",
       "      <td>Catering</td>\n",
       "      <td>A cafeteria is a type of food service location...</td>\n",
       "      <td>spanish loanwords rooms types of restaurants c...</td>\n",
       "    </tr>\n",
       "    <tr>\n",
       "      <th>12</th>\n",
       "      <td>Security</td>\n",
       "      <td>The police are a constituted body of persons e...</td>\n",
       "      <td>law enforcement legal professions national sec...</td>\n",
       "    </tr>\n",
       "    <tr>\n",
       "      <th>12</th>\n",
       "      <td>United States Navy</td>\n",
       "      <td>The United States Navy (USN) is the naval warf...</td>\n",
       "      <td>military units and formations established in 1...</td>\n",
       "    </tr>\n",
       "    <tr>\n",
       "      <th>12</th>\n",
       "      <td>Home Appliances</td>\n",
       "      <td>Home appliances are electrical/mechanical mach...</td>\n",
       "      <td>home appliances home appliance</td>\n",
       "    </tr>\n",
       "    <tr>\n",
       "      <th>12</th>\n",
       "      <td>Susan G. Komen for the Cure</td>\n",
       "      <td>Susan G. Komen for the Cure, formerly known as...</td>\n",
       "      <td>5k races organization company organizations es...</td>\n",
       "    </tr>\n",
       "    <tr>\n",
       "      <th>12</th>\n",
       "      <td>BBC</td>\n",
       "      <td>The British Broadcasting Corporation (BBC) is ...</td>\n",
       "      <td>bbc radio multilingual broadcasters european b...</td>\n",
       "    </tr>\n",
       "    <tr>\n",
       "      <th>12</th>\n",
       "      <td>Engagement</td>\n",
       "      <td>A service star is a United States Armed Forces...</td>\n",
       "      <td>star symbols service star devices and accouter...</td>\n",
       "    </tr>\n",
       "    <tr>\n",
       "      <th>12</th>\n",
       "      <td>Old age</td>\n",
       "      <td>A pension is a fixed sum paid regularly to a p...</td>\n",
       "      <td>investment personal finance employment compens...</td>\n",
       "    </tr>\n",
       "    <tr>\n",
       "      <th>12</th>\n",
       "      <td>Sales tax</td>\n",
       "      <td>A sales tax is a tax, usually paid by the cons...</td>\n",
       "      <td>sales taxes sales tax</td>\n",
       "    </tr>\n",
       "    <tr>\n",
       "      <th>12</th>\n",
       "      <td>Sales taxes in the United States</td>\n",
       "      <td>Sales taxes in the United States are taxes pla...</td>\n",
       "      <td>sales taxes state taxation in the united state...</td>\n",
       "    </tr>\n",
       "    <tr>\n",
       "      <th>12</th>\n",
       "      <td>Train</td>\n",
       "      <td>A train station, also called a railroad statio...</td>\n",
       "      <td>railway stations train station</td>\n",
       "    </tr>\n",
       "    <tr>\n",
       "      <th>12</th>\n",
       "      <td>United States Coast Guard</td>\n",
       "      <td>The United States Coast Guard (USCG) is a bran...</td>\n",
       "      <td>1915 establishments in the united states sea r...</td>\n",
       "    </tr>\n",
       "    <tr>\n",
       "      <th>12</th>\n",
       "      <td>CVS Pharmacy</td>\n",
       "      <td>CVS Caremark Corporation is an American drug r...</td>\n",
       "      <td>companies based in rhode island companies esta...</td>\n",
       "    </tr>\n",
       "    <tr>\n",
       "      <th>12</th>\n",
       "      <td>Mass Transit</td>\n",
       "      <td>Public transport (also public transportation o...</td>\n",
       "      <td>transport sustainable transport public transpo...</td>\n",
       "    </tr>\n",
       "    <tr>\n",
       "      <th>12</th>\n",
       "      <td>IRS e-file</td>\n",
       "      <td>E-file is a system for submitting tax document...</td>\n",
       "      <td>irs e-file united states federal income tax</td>\n",
       "    </tr>\n",
       "    <tr>\n",
       "      <th>12</th>\n",
       "      <td>Twitter</td>\n",
       "      <td>Twitter is an online social networking service...</td>\n",
       "      <td>privately held companies based in california s...</td>\n",
       "    </tr>\n",
       "    <tr>\n",
       "      <th>12</th>\n",
       "      <td>Internet access</td>\n",
       "      <td>An Internet service provider (ISP) is an organ...</td>\n",
       "      <td>internet service providers internet service pr...</td>\n",
       "    </tr>\n",
       "    <tr>\n",
       "      <th>...</th>\n",
       "      <td>...</td>\n",
       "      <td>...</td>\n",
       "      <td>...</td>\n",
       "    </tr>\n",
       "    <tr>\n",
       "      <th>12</th>\n",
       "      <td>Disabled American Veterans</td>\n",
       "      <td>The Disabled American Veterans, or DAV, is an ...</td>\n",
       "      <td>organization aftermath of war agent disabled a...</td>\n",
       "    </tr>\n",
       "    <tr>\n",
       "      <th>12</th>\n",
       "      <td>Social network</td>\n",
       "      <td>A social networking service is an online servi...</td>\n",
       "      <td>social networking services youth technology in...</td>\n",
       "    </tr>\n",
       "    <tr>\n",
       "      <th>12</th>\n",
       "      <td>Public transport</td>\n",
       "      <td>Public transport (also public transportation o...</td>\n",
       "      <td>transport sustainable transport public transpo...</td>\n",
       "    </tr>\n",
       "    <tr>\n",
       "      <th>12</th>\n",
       "      <td>Take-out</td>\n",
       "      <td>Tim Hortons Inc. is a Canadian fast casual res...</td>\n",
       "      <td>coffee houses of canada restaurants establishe...</td>\n",
       "    </tr>\n",
       "    <tr>\n",
       "      <th>12</th>\n",
       "      <td>Emergency medical services</td>\n",
       "      <td>Emergency Medical Services (abbreviated to the...</td>\n",
       "      <td>emergency medical services</td>\n",
       "    </tr>\n",
       "    <tr>\n",
       "      <th>12</th>\n",
       "      <td>Police</td>\n",
       "      <td>The police are a constituted body of persons e...</td>\n",
       "      <td>law enforcement legal professions national sec...</td>\n",
       "    </tr>\n",
       "    <tr>\n",
       "      <th>12</th>\n",
       "      <td>Investigative journalism</td>\n",
       "      <td>Investigative journalism is a form of journali...</td>\n",
       "      <td>investigative journalism journalism genres</td>\n",
       "    </tr>\n",
       "    <tr>\n",
       "      <th>12</th>\n",
       "      <td>EBay</td>\n",
       "      <td>eBay Inc. is an American multinational interne...</td>\n",
       "      <td>global internet community ebay companies estab...</td>\n",
       "    </tr>\n",
       "    <tr>\n",
       "      <th>12</th>\n",
       "      <td>Town</td>\n",
       "      <td>In law, an unincorporated area is a region of ...</td>\n",
       "      <td>urban studies and planning terminology local g...</td>\n",
       "    </tr>\n",
       "    <tr>\n",
       "      <th>12</th>\n",
       "      <td>Architecture</td>\n",
       "      <td>An architect is a person trained in the planni...</td>\n",
       "      <td>occupations architects architect professional ...</td>\n",
       "    </tr>\n",
       "    <tr>\n",
       "      <th>12</th>\n",
       "      <td>Montgomery County Police Department</td>\n",
       "      <td>The Montgomery County Police Department (MCPD)...</td>\n",
       "      <td>county police departments of maryland montgome...</td>\n",
       "    </tr>\n",
       "    <tr>\n",
       "      <th>12</th>\n",
       "      <td>Internal Revenue Service</td>\n",
       "      <td>The Internal Revenue Service (IRS) is the reve...</td>\n",
       "      <td>government agency internal revenue service org...</td>\n",
       "    </tr>\n",
       "    <tr>\n",
       "      <th>12</th>\n",
       "      <td>Facebook</td>\n",
       "      <td>Facebook is a social networking service and we...</td>\n",
       "      <td>privately held companies based in california p...</td>\n",
       "    </tr>\n",
       "    <tr>\n",
       "      <th>12</th>\n",
       "      <td>Preacher</td>\n",
       "      <td>In Christian churches, a minister is someone w...</td>\n",
       "      <td>ministers of religion christian religious occu...</td>\n",
       "    </tr>\n",
       "    <tr>\n",
       "      <th>12</th>\n",
       "      <td>Easter</td>\n",
       "      <td>Easter Easter PaschaDepiction of the resurrect...</td>\n",
       "      <td>easter holy week christian holidays</td>\n",
       "    </tr>\n",
       "    <tr>\n",
       "      <th>12</th>\n",
       "      <td>Retail</td>\n",
       "      <td>Retail is the sale of goods and services from ...</td>\n",
       "      <td>article feedback 5 retail retailing</td>\n",
       "    </tr>\n",
       "    <tr>\n",
       "      <th>12</th>\n",
       "      <td>Cancer awareness</td>\n",
       "      <td>Susan G. Komen for the Cure, formerly known as...</td>\n",
       "      <td>5k races organization company organizations es...</td>\n",
       "    </tr>\n",
       "    <tr>\n",
       "      <th>12</th>\n",
       "      <td>Public service announcement</td>\n",
       "      <td>There are many different definitions for a pub...</td>\n",
       "      <td>public service announcements public service an...</td>\n",
       "    </tr>\n",
       "    <tr>\n",
       "      <th>12</th>\n",
       "      <td>Train station</td>\n",
       "      <td>A train station, also called a railroad statio...</td>\n",
       "      <td>railway stations train station</td>\n",
       "    </tr>\n",
       "    <tr>\n",
       "      <th>12</th>\n",
       "      <td>Net neutrality</td>\n",
       "      <td>Network neutrality (also net neutrality, Inter...</td>\n",
       "      <td>computer law internet access network neutrality</td>\n",
       "    </tr>\n",
       "    <tr>\n",
       "      <th>12</th>\n",
       "      <td>Police officer</td>\n",
       "      <td>The police are a constituted body of persons e...</td>\n",
       "      <td>law enforcement legal professions national sec...</td>\n",
       "    </tr>\n",
       "    <tr>\n",
       "      <th>12</th>\n",
       "      <td>Fire department</td>\n",
       "      <td>A fire department or fire brigade (also known ...</td>\n",
       "      <td>fire departments firefighting fire department</td>\n",
       "    </tr>\n",
       "    <tr>\n",
       "      <th>12</th>\n",
       "      <td>Association of Radical Midwives</td>\n",
       "      <td>The Association of Radical Midwives (ARM) is a...</td>\n",
       "      <td>association of radical midwives organizations ...</td>\n",
       "    </tr>\n",
       "    <tr>\n",
       "      <th>12</th>\n",
       "      <td>Volvo</td>\n",
       "      <td>AB Volvo is a Swedish builder of heavy equipme...</td>\n",
       "      <td>commercial vehicles motor vehicle manufacturer...</td>\n",
       "    </tr>\n",
       "    <tr>\n",
       "      <th>12</th>\n",
       "      <td>National park</td>\n",
       "      <td>The National Park Service (NPS) is the U.S. fe...</td>\n",
       "      <td>federal law enforcement agencies of the united...</td>\n",
       "    </tr>\n",
       "    <tr>\n",
       "      <th>12</th>\n",
       "      <td>Elon Musk</td>\n",
       "      <td>Elon Musk (born June 28, 1971) is a South Afri...</td>\n",
       "      <td>naturalized citizens of the united states sout...</td>\n",
       "    </tr>\n",
       "    <tr>\n",
       "      <th>12</th>\n",
       "      <td>Post office</td>\n",
       "      <td>A post office is a facility forming part of a ...</td>\n",
       "      <td>post office post office buildings postal system</td>\n",
       "    </tr>\n",
       "    <tr>\n",
       "      <th>12</th>\n",
       "      <td>Law enforcement</td>\n",
       "      <td>The police are a constituted body of persons e...</td>\n",
       "      <td>law enforcement legal professions national sec...</td>\n",
       "    </tr>\n",
       "    <tr>\n",
       "      <th>12</th>\n",
       "      <td>Social networking service</td>\n",
       "      <td>A social networking service is an online servi...</td>\n",
       "      <td>social networking services youth technology in...</td>\n",
       "    </tr>\n",
       "    <tr>\n",
       "      <th>12</th>\n",
       "      <td>Foster Parenting</td>\n",
       "      <td>Foster care is the term used for a system in w...</td>\n",
       "      <td>adoption forms and related practices family ad...</td>\n",
       "    </tr>\n",
       "  </tbody>\n",
       "</table>\n",
       "<p>91 rows × 3 columns</p>\n",
       "</div>"
      ],
      "text/plain": [
       "                                  names  \\\n",
       "12                          Google Docs   \n",
       "12                                Lunch   \n",
       "12                              Texting   \n",
       "12            Internet service provider   \n",
       "12                       The Home Depot   \n",
       "12                             Manicure   \n",
       "12                 Sponsor (commercial)   \n",
       "12                                  Bus   \n",
       "12                              Militia   \n",
       "12                            Free Wifi   \n",
       "12                               Tumblr   \n",
       "12                           World News   \n",
       "12                                Nokia   \n",
       "12                             Catering   \n",
       "12                             Security   \n",
       "12                   United States Navy   \n",
       "12                      Home Appliances   \n",
       "12          Susan G. Komen for the Cure   \n",
       "12                                  BBC   \n",
       "12                           Engagement   \n",
       "12                              Old age   \n",
       "12                            Sales tax   \n",
       "12     Sales taxes in the United States   \n",
       "12                                Train   \n",
       "12            United States Coast Guard   \n",
       "12                         CVS Pharmacy   \n",
       "12                         Mass Transit   \n",
       "12                           IRS e-file   \n",
       "12                              Twitter   \n",
       "12                      Internet access   \n",
       "..                                  ...   \n",
       "12           Disabled American Veterans   \n",
       "12                       Social network   \n",
       "12                     Public transport   \n",
       "12                             Take-out   \n",
       "12           Emergency medical services   \n",
       "12                               Police   \n",
       "12             Investigative journalism   \n",
       "12                                 EBay   \n",
       "12                                 Town   \n",
       "12                         Architecture   \n",
       "12  Montgomery County Police Department   \n",
       "12             Internal Revenue Service   \n",
       "12                             Facebook   \n",
       "12                             Preacher   \n",
       "12                               Easter   \n",
       "12                               Retail   \n",
       "12                     Cancer awareness   \n",
       "12          Public service announcement   \n",
       "12                        Train station   \n",
       "12                       Net neutrality   \n",
       "12                       Police officer   \n",
       "12                      Fire department   \n",
       "12      Association of Radical Midwives   \n",
       "12                                Volvo   \n",
       "12                        National park   \n",
       "12                            Elon Musk   \n",
       "12                          Post office   \n",
       "12                      Law enforcement   \n",
       "12            Social networking service   \n",
       "12                     Foster Parenting   \n",
       "\n",
       "                                         descriptions  \\\n",
       "12  Google Docs (now known as Google Drive) is a f...   \n",
       "12  Extortion (also called blackmail, shakedown, o...   \n",
       "12  Short Message Service (SMS) is a text messagin...   \n",
       "12  An Internet service provider (ISP) is an organ...   \n",
       "12  The Home Depot is an American retailer of home...   \n",
       "12  A manicure is a cosmetic beauty treatment for ...   \n",
       "12  To sponsor something is to support an event, a...   \n",
       "12  Public transport (also public transportation o...   \n",
       "12  The term militia, or irregular army, is common...   \n",
       "12  A hotspot is a site that offers Internet acces...   \n",
       "12  Tumblr is a microblogging platform and social ...   \n",
       "12  The BBC World Service is the world's largest i...   \n",
       "12  Nokia Corporation is a multinational communica...   \n",
       "12  A cafeteria is a type of food service location...   \n",
       "12  The police are a constituted body of persons e...   \n",
       "12  The United States Navy (USN) is the naval warf...   \n",
       "12  Home appliances are electrical/mechanical mach...   \n",
       "12  Susan G. Komen for the Cure, formerly known as...   \n",
       "12  The British Broadcasting Corporation (BBC) is ...   \n",
       "12  A service star is a United States Armed Forces...   \n",
       "12  A pension is a fixed sum paid regularly to a p...   \n",
       "12  A sales tax is a tax, usually paid by the cons...   \n",
       "12  Sales taxes in the United States are taxes pla...   \n",
       "12  A train station, also called a railroad statio...   \n",
       "12  The United States Coast Guard (USCG) is a bran...   \n",
       "12  CVS Caremark Corporation is an American drug r...   \n",
       "12  Public transport (also public transportation o...   \n",
       "12  E-file is a system for submitting tax document...   \n",
       "12  Twitter is an online social networking service...   \n",
       "12  An Internet service provider (ISP) is an organ...   \n",
       "..                                                ...   \n",
       "12  The Disabled American Veterans, or DAV, is an ...   \n",
       "12  A social networking service is an online servi...   \n",
       "12  Public transport (also public transportation o...   \n",
       "12  Tim Hortons Inc. is a Canadian fast casual res...   \n",
       "12  Emergency Medical Services (abbreviated to the...   \n",
       "12  The police are a constituted body of persons e...   \n",
       "12  Investigative journalism is a form of journali...   \n",
       "12  eBay Inc. is an American multinational interne...   \n",
       "12  In law, an unincorporated area is a region of ...   \n",
       "12  An architect is a person trained in the planni...   \n",
       "12  The Montgomery County Police Department (MCPD)...   \n",
       "12  The Internal Revenue Service (IRS) is the reve...   \n",
       "12  Facebook is a social networking service and we...   \n",
       "12  In Christian churches, a minister is someone w...   \n",
       "12  Easter Easter PaschaDepiction of the resurrect...   \n",
       "12  Retail is the sale of goods and services from ...   \n",
       "12  Susan G. Komen for the Cure, formerly known as...   \n",
       "12  There are many different definitions for a pub...   \n",
       "12  A train station, also called a railroad statio...   \n",
       "12  Network neutrality (also net neutrality, Inter...   \n",
       "12  The police are a constituted body of persons e...   \n",
       "12  A fire department or fire brigade (also known ...   \n",
       "12  The Association of Radical Midwives (ARM) is a...   \n",
       "12  AB Volvo is a Swedish builder of heavy equipme...   \n",
       "12  The National Park Service (NPS) is the U.S. fe...   \n",
       "12  Elon Musk (born June 28, 1971) is a South Afri...   \n",
       "12  A post office is a facility forming part of a ...   \n",
       "12  The police are a constituted body of persons e...   \n",
       "12  A social networking service is an online servi...   \n",
       "12  Foster care is the term used for a system in w...   \n",
       "\n",
       "                                               labels  \n",
       "12  web 2.0 online word processors collaboration o...  \n",
       "12  extortion illegal occupations crimes organized...  \n",
       "12  short message service text messaging 3rd gener...  \n",
       "12  internet service providers internet service pr...  \n",
       "12  companies based in atlanta, georgia dow jones ...  \n",
       "12               body modification nail care manicure  \n",
       "12  sponsor (commercial) advertising television te...  \n",
       "12  transport sustainable transport public transpo...  \n",
       "12  paramilitary organizations rebel militia group...  \n",
       "12       wireless access points wi-fi hotspot (wi-fi)  \n",
       "12  social networking services tumblr organization...  \n",
       "12  bbc world service xm satellite radio channels ...  \n",
       "12  companies of finland companies based in espoo ...  \n",
       "12  spanish loanwords rooms types of restaurants c...  \n",
       "12  law enforcement legal professions national sec...  \n",
       "12  military units and formations established in 1...  \n",
       "12                     home appliances home appliance  \n",
       "12  5k races organization company organizations es...  \n",
       "12  bbc radio multilingual broadcasters european b...  \n",
       "12  star symbols service star devices and accouter...  \n",
       "12  investment personal finance employment compens...  \n",
       "12                              sales taxes sales tax  \n",
       "12  sales taxes state taxation in the united state...  \n",
       "12                     railway stations train station  \n",
       "12  1915 establishments in the united states sea r...  \n",
       "12  companies based in rhode island companies esta...  \n",
       "12  transport sustainable transport public transpo...  \n",
       "12        irs e-file united states federal income tax  \n",
       "12  privately held companies based in california s...  \n",
       "12  internet service providers internet service pr...  \n",
       "..                                                ...  \n",
       "12  organization aftermath of war agent disabled a...  \n",
       "12  social networking services youth technology in...  \n",
       "12  transport sustainable transport public transpo...  \n",
       "12  coffee houses of canada restaurants establishe...  \n",
       "12                         emergency medical services  \n",
       "12  law enforcement legal professions national sec...  \n",
       "12         investigative journalism journalism genres  \n",
       "12  global internet community ebay companies estab...  \n",
       "12  urban studies and planning terminology local g...  \n",
       "12  occupations architects architect professional ...  \n",
       "12  county police departments of maryland montgome...  \n",
       "12  government agency internal revenue service org...  \n",
       "12  privately held companies based in california p...  \n",
       "12  ministers of religion christian religious occu...  \n",
       "12                easter holy week christian holidays  \n",
       "12                article feedback 5 retail retailing  \n",
       "12  5k races organization company organizations es...  \n",
       "12  public service announcements public service an...  \n",
       "12                     railway stations train station  \n",
       "12    computer law internet access network neutrality  \n",
       "12  law enforcement legal professions national sec...  \n",
       "12      fire departments firefighting fire department  \n",
       "12  association of radical midwives organizations ...  \n",
       "12  commercial vehicles motor vehicle manufacturer...  \n",
       "12  federal law enforcement agencies of the united...  \n",
       "12  naturalized citizens of the united states sout...  \n",
       "12    post office post office buildings postal system  \n",
       "12  law enforcement legal professions national sec...  \n",
       "12  social networking services youth technology in...  \n",
       "12  adoption forms and related practices family ad...  \n",
       "\n",
       "[91 rows x 3 columns]"
      ]
     },
     "execution_count": 906,
     "metadata": {},
     "output_type": "execute_result"
    }
   ],
   "source": [
    "frame.ix[12]"
   ]
  },
  {
   "cell_type": "code",
   "execution_count": 907,
   "metadata": {},
   "outputs": [
    {
     "name": "stdout",
     "output_type": "stream",
     "text": [
      "Top terms per cluster:\n",
      "Cluster 0\n",
      "WORDS: health, sexual, physic, human, care, general, social, relat, refer, term, defin, individu, organ, person, includ, peopl, bodi, cultur, activ, provid\n",
      "LABEL NAMES: Interracial Romance, Basic income, Major trauma, Physical attractiveness, LGBT social movements, Hiking, Elderly care, Drugstore, Space exploration, Paramedics in the United States, Health (magazine), Clothing, Patient Protection and Affordable Care Act, CARE Package, Human sexuality\n",
      "\n",
      "Cluster 1\n",
      "WORDS: state, unit, univers, presid, nation, feder, govern, u.s., american, 's, war, depart, locat, organ, law, research, agenc, right, canada, america\n",
      "LABEL NAMES: Reading, Federal Communications Commission, Oklahoma, pearl harbor, Minnesota, Arkansas, Baton Rouge, Louisiana, May Day, United States Environmental Protection Agency, Member states of the United Nations, Abortion in the United States, Finance, Cyber Intelligence Sharing and Protection Act, University of Southern California, Environmental protection\n",
      "\n",
      "Cluster 2\n",
      "WORDS: food, serv, form, term, develop, usual, typic, use, product, tradit, varieti, speci, includ, consum, store, civil, common, contain, word, life\n",
      "LABEL NAMES: Cinnamon, Starvation, Farmers' market, Ministry of Agriculture, Food and Environment (Spain), American black bear, Sausage, farming, Bracelet, Dental floss, Agriculture, Barley, Big Mac, Fast food restaurants, Hot dog stand, Grocery store\n",
      "\n",
      "Cluster 3\n",
      "WORDS: 's, world, known, person, peopl, form, usual, includ, event, refer, term, general, group, mani, cultur, law, social, work, common, sport\n",
      "LABEL NAMES: Puppy love, Mormonism, Lunar soil, Ultimate Fighting Championship, Voice-over, Climate, Scientist, Rosa Parks, Motorsport, Transport, Turkish Airlines, Exploration of the Moon, Youth activism, Surprise (emotion), Beauty salons\n",
      "\n",
      "Cluster 4\n",
      "WORDS: fashion, hous, 's, design, cloth, magazin, white, brand, model, american, born, style, compani, women, establish, unit, social, presid, state, repres\n",
      "LABEL NAMES: David Letterman, Hairstyle, Balenciaga, Jake Tapper, Late Show with David Letterman, Chanel, Kenzo (brand), Low Income Housing Institute, Victoria's Secret, Monster High, GQ, Calvin Klein, Vogue (magazine), Ashley Graham (model), Ronald McDonald\n",
      "\n",
      "Cluster 5\n",
      "WORDS: use, term, common, refer, mean, person, type, form, peopl, word, art, countri, practic, includ, mani, describ, object, specif, known, transport\n",
      "LABEL NAMES: Identity document, Treasure, Internet meme, Ballpoint pen, Toilet paper, Paint, Womanism, Kung fu (term), Brain injury, Calorie, Martial arts, Attorney general, weed, Skyscraper, Cars\n",
      "\n",
      "Cluster 6\n",
      "WORDS: award, academi, best, actor, film, nomin, actress, globe, golden, born, american, role, receiv, televis, perform, music, director, 's, produc, movi\n",
      "LABEL NAMES: Elaine Benes, Scholarship, MTV Movie Awards, Spike Lee, Tony Award, Tony Award for Best Musical, Make-up artist, Viola Davis, Margaret Atwood, Grammy Award, Teen Choice Awards, Cher, Trevor Noah, Ryan Seacrest, Anna Kendrick\n",
      "\n",
      "Cluster 7\n",
      "WORDS: south, republ, countri, north, east, border, west, island, offici, sea, ocean, europ, asia, locat, africa, state, northern, popul, america, area\n",
      "LABEL NAMES: Libya, Guatemala, Bolivia, Ghana, Republic of Macedonia, Kenya, Morocco, Gaza Strip, Israel, Ethiopia, Chechnya, North Korea, Canada, Spain, Oceania\n",
      "\n",
      "Cluster 8\n",
      "WORDS: news, channel, network, televis, program, broadcast, cabl, radio, host, american, fox, air, launch, 's, time, current, origin, studio, unit, disney\n",
      "LABEL NAMES: Family Feud, Bitcoin, News broadcasting, VH1, Good Morning America, Home video, Showtime (TV network), Jimmy Kimmel, Breakfast, The Price Is Right (U.S. game show), The Price Is Right, Phone hacking, Digital Trends, Gay News, Weird News\n",
      "\n",
      "Cluster 9\n",
      "WORDS: comic, charact, marvel, appear, book, fiction, superhero, publish, creat, univers, 's, star, artist, film, writer, origin, power, titl, magazin, team\n",
      "LABEL NAMES: Comic book, Steve Harvey, Vapor, Wonder Woman (TV series), Catwoman, Squirrel Girl, thor, Black Panther (comics), Quicksilver (comics), Logan, Thimble, Captain America, Captain Marvel (DC Comics), Iron Man (2008 film), Bane (comics)\n",
      "\n",
      "Cluster 10\n",
      "WORDS: film, direct, star, american, written, produc, base, comedi, novel, 's, releas, featur, seri, fiction, pictur, anim, disney, stori, scienc, charact\n",
      "LABEL NAMES: Lemony Snicket's A Series of Unfortunate Events, Ariel (The Little Mermaid), Snow White and the Seven Dwarfs (1937 film), Titanic (1997 film), Bridesmaids (2011 film), Back to the Future Part II, Teen film, Donnie Darko, Indiana Jones (franchise), Dave Chappelle, The Life Aquatic with Steve Zissou, Cruel Intentions, Action movies, Pretty Woman, Star Wars\n",
      "\n",
      "Cluster 11\n",
      "WORDS: water, electr, use, energi, product, contain, surfac, chemic, bodi, form, earth, river, sport, includ, materi, occur, generat, 's, typic, caus\n",
      "LABEL NAMES: Wakeboarding, Tunnel, Waste, Ocean, Dam, Hydropower, Airport, Baptism, Espresso, Emissions, Major appliance, Water heating, Carbon dioxide, Beer, greenery\n",
      "\n",
      "Cluster 12\n",
      "WORDS: servic, state, provid, public, unit, social, internet, good, network, use, organ, onlin, u.s., privat, transport, train, forc, respons, person, corpor\n",
      "LABEL NAMES: Google Docs, Lunch, Texting, Internet service provider, The Home Depot, Manicure, Sponsor (commercial), Bus, Militia, Free Wifi, Tumblr, World News, Nokia, Catering, Security\n",
      "\n",
      "Cluster 13\n",
      "WORDS: york, new, citi, state, unit, american, compani, univers, locat, 's, art, street, metropolitan, time, headquart, perform, born, known, began, center\n",
      "LABEL NAMES: Fireworks, Costume, New York City Police Department, Times Square Ball, Futurama, Statue of Liberty, CollegeHumor, New York University, Karen Walker (designer), Carnegie Hall, Growing pains, Lana Del Rey, History of hip-hop dance, Azealia Banks, cafe\n",
      "\n",
      "Cluster 14\n",
      "WORDS: citi, popul, counti, state, area, largest, census, metropolitan, unit, locat, seat, capit, u.s., california, region, km, river, 's, million, new\n",
      "LABEL NAMES: Philadelphia, Indian people, Phoenix, Arizona, Magnet, Rio de Janeiro, Santiago, Baltimore, Aleppo, Miami Police Department, Cleveland, San Antonio, Istanbul, Newark, New Jersey, Benghazi, Vancouver\n",
      "\n",
      "Cluster 15\n",
      "WORDS: music, rock, band, genr, form, popular, style, perform, singer, song, musician, origin, lead, pop, record, known, term, 's, includ, video\n",
      "LABEL NAMES: America the Beautiful, Wham!, Country music, Lyrics, The Roots, Karaoke, Unicorn, High School Musical, Pop music, H&M, Korean Music, The Voice, Florence Welch, EDM, Glitter\n",
      "\n",
      "Cluster 16\n",
      "WORDS: game, video, play, player, sport, releas, 's, seri, team, world, develop, use, franchis, popular, includ, rule, number, usual, media, home\n",
      "LABEL NAMES: Trading card, Video blog, Tennis, 2020 Summer Olympics, Ice hockey, Tony Hawk, Grand Theft Auto V, Mobile app, Red Dead Redemption, Viral video, The Legend of Zelda, Spelling bee, Collectable, Easter egg (media), Flying squirrel\n",
      "\n",
      "Cluster 17\n",
      "WORDS: compani, headquart, corpor, brand, inc., largest, unit, manufactur, oper, 's, world, product, state, car, store, american, base, subsidiari, sport, disney\n",
      "LABEL NAMES: Good Vibrations (sex shop), Shell Oil Company, Toyota, Lexus, Marvel Entertainment, Renault, Sports and outdoors, Bloody-Disgusting, Greyhound, The UPS Store, Amazon.com, The Trump Entrepreneur Initiative, Elf, Local news, Ford Motor Company\n",
      "\n",
      "Cluster 18\n",
      "WORDS: record, album, releas, born, american, stage, known, artist, song, singl, better, band, debut, singer-songwrit, music, singer, sign, produc, 's, studio\n",
      "LABEL NAMES: Kanye West, Amy Winehouse, Stevie Wonder, Sean Combs, Pitbull (rapper), Michael Jackson, Covers, Whitney Houston, Christina Grimmie, Ryan Lochte, Jukebox, Hanson (band), Ciara, All Eyez on Me, Ludacris\n",
      "\n",
      "Cluster 19\n",
      "WORDS: footbal, leagu, team, nation, play, profession, club, american, colleg, divis, player, base, season, 's, game, associ, canadian, univers, born, unit\n",
      "LABEL NAMES: Tim Tebow, Jaguar, Hamburger, College football, San Francisco 49ers, National Football League, Headbutt, MasterCard, Aaron Hernandez, nfl, Halftime show, Golden State Warriors, Safety, Swan, Cats\n",
      "\n",
      "Cluster 20\n",
      "WORDS: comput, devic, electr, energi, engin, use, electron, oper, power, technolog, digit, network, mechan, design, control, process, connect, sound, vehicl, inform\n",
      "LABEL NAMES: IPad, Digital data, Mobile device, Juice, Julian Assange, Internet, Wearable technology, Power Grid, Augmented reality, Business, Electric car, Virology, Navigation, Spyware, Energy drinks\n",
      "\n",
      "Cluster 21\n",
      "WORDS: anim, speci, organ, plant, live, human, famili, includ, natur, domest, bodi, biolog, term, use, group, relat, refer, order, known, form\n",
      "LABEL NAMES: Pig, Skeleton, Meat, Gorilla, Beekeeping, PETA (People for the Ethical Treatment of Animals), Gas, Fossil fuel, Shrimp, Wilderness, Potato, Botanical garden, Pineapple, Baby Animals, Air pollution\n",
      "\n",
      "Cluster 22\n",
      "WORDS: seri, televis, american, creat, season, episod, 's, anim, produc, air, realiti, charact, premier, fiction, star, nbc, sitcom, famili, comedi, broadcast\n",
      "LABEL NAMES: MacBook, John Oliver (comedian), Project Runway, Bob's Burgers, Mother and Son, Star Trek, Kim Kardashian, Funeral home, Mother Nature, Tom and Jerry, Mighty Morphin Power Rangers, Zapp Brannigan, Jesse Pinkman, Party Food, Sesame Street\n",
      "\n",
      "Cluster 23\n",
      "WORDS: parti, elect, republican, state, serv, polit, democrat, presid, unit, senat, born, member, repres, nation, district, u.s., current, 's, januari, american\n",
      "LABEL NAMES: Bernie Sanders, Candidate, Chuck Schumer, Erna Solberg, Republicans, Elizabeth Warren, Reince Priebus, Republican National Committee, Young Republicans, Primary election, Debbie Wasserman Schultz, John Kasich, AT&T, Restraining order, Al Franken\n",
      "\n",
      "Cluster 24\n",
      "WORDS: film, role, born, actor, american, actress, known, televis, best, star, seri, director, produc, comedian, appear, 's, singer, writer, play, debut\n",
      "LABEL NAMES: Lamar Odom, Adam DeVine, Alec Baldwin, Jada Pinkett Smith, Kristen Bell, Andrew Garfield, Martin Starr, Rob Schneider, tyrese, Rumer Willis, Sigourney Weaver, Tatiana Maslany, Bill Paxton, Phil McGraw, Wendell Pierce\n",
      "\n"
     ]
    }
   ],
   "source": [
    "print_top(km, terms, frame, ntop_words = 20)"
   ]
  },
  {
   "cell_type": "markdown",
   "metadata": {},
   "source": [
    "# Hierarchical document clustering"
   ]
  },
  {
   "cell_type": "code",
   "execution_count": 908,
   "metadata": {
    "collapsed": true
   },
   "outputs": [],
   "source": [
    "from sklearn.metrics.pairwise import cosine_similarity\n",
    "from scipy.cluster.hierarchy import ward, dendrogram"
   ]
  },
  {
   "cell_type": "code",
   "execution_count": 909,
   "metadata": {
    "collapsed": true
   },
   "outputs": [],
   "source": [
    "n = 100\n",
    "chart_height = n / 6.25"
   ]
  },
  {
   "cell_type": "code",
   "execution_count": 910,
   "metadata": {
    "collapsed": true
   },
   "outputs": [],
   "source": [
    "sampled_ = frame.sample(n=n)\n",
    "\n",
    "tfidf_matrix_sampled = tfidf_vectorizer.transform(sampled_['descriptions'])\n",
    "linkage_matrix = ward(1 - cosine_similarity(tfidf_matrix_sampled))"
   ]
  },
  {
   "cell_type": "code",
   "execution_count": 911,
   "metadata": {},
   "outputs": [
    {
     "data": {
      "image/png": "[encoded data removed]",
      "text/plain": [
       "<matplotlib.figure.Figure at 0x7fab10d46ba8>"
      ]
     },
     "metadata": {},
     "output_type": "display_data"
    }
   ],
   "source": [
    "# well, i guess I should use stratified sampling\n",
    "barplot(sampled_.index)"
   ]
  },
  {
   "cell_type": "code",
   "execution_count": 912,
   "metadata": {},
   "outputs": [
    {
     "data": {
      "image/png": "[encoded data removed]",
      "text/plain": [
       "<matplotlib.figure.Figure at 0x7faa79192c88>"
      ]
     },
     "metadata": {},
     "output_type": "display_data"
    }
   ],
   "source": [
    "fig, ax = plt.subplots(figsize=(15, chart_height)) # set size\n",
    "ax = dendrogram(\n",
    "    linkage_matrix, \n",
    "    truncate_mode='mlab',\n",
    "    orientation=\"left\", \n",
    "    labels=sampled_.names.values, \n",
    "    leaf_font_size=12.,);\n",
    "plt.tick_params(\\\n",
    "    axis= 'x',          # changes apply to the x-axis\n",
    "    which='both',      # both major and minor ticks are affected\n",
    "    bottom='off',      # ticks along the bottom edge are off\n",
    "    top='off',         # ticks along the top edge are off\n",
    "    labelbottom='off')\n",
    "\n",
    "plt.tight_layout() #show plot with tight layout"
   ]
  },
  {
   "cell_type": "markdown",
   "metadata": {},
   "source": [
    "Sampled tags make sense, we could experiment with elbow method to select the optimal number of clusters"
   ]
  },
  {
   "cell_type": "markdown",
   "metadata": {},
   "source": [
    "# Latent Dirichlet Allocation"
   ]
  },
  {
   "cell_type": "code",
   "execution_count": 931,
   "metadata": {
    "collapsed": true
   },
   "outputs": [],
   "source": [
    "from gensim import corpora, models, similarities \n",
    "\n",
    "NUM_TOPICS = 20"
   ]
  },
  {
   "cell_type": "code",
   "execution_count": 932,
   "metadata": {
    "collapsed": true
   },
   "outputs": [],
   "source": [
    "texts = [tokenize_and_stem(text) for text in descriptions]"
   ]
  },
  {
   "cell_type": "code",
   "execution_count": 933,
   "metadata": {
    "collapsed": true
   },
   "outputs": [],
   "source": [
    "#create a Gensim dictionary from the texts\n",
    "dictionary = corpora.Dictionary(texts)\n",
    "\n",
    "#remove extremes (similar to the min/max df step used when creating the tf-idf matrix)\n",
    "dictionary.filter_extremes(no_below=1, no_above=0.8)\n",
    "\n",
    "#convert the dictionary to a bag of words corpus for reference\n",
    "corpus = [dictionary.doc2bow(text) for text in texts]\n",
    "\n",
    "#create TF-IDF corpora\n",
    "corpus_tfidf = models.TfidfModel(corpus)"
   ]
  },
  {
   "cell_type": "code",
   "execution_count": null,
   "metadata": {
    "collapsed": true
   },
   "outputs": [],
   "source": [
    "## BoW Corpus"
   ]
  },
  {
   "cell_type": "code",
   "execution_count": null,
   "metadata": {
    "collapsed": true
   },
   "outputs": [],
   "source": [
    "lda = models.LdaModel(corpus, num_topics=NUM_TOPICS,\n",
    "                      id2word=dictionary,\n",
    "                      update_every=2,\n",
    "                      chunksize=10000,\n",
    "                      passes=20)"
   ]
  },
  {
   "cell_type": "code",
   "execution_count": null,
   "metadata": {},
   "outputs": [],
   "source": [
    "topics_matrix = lda.show_topics(formatted=False, num_words=10, num_topics=NUM_TOPICS)\n",
    "topics_matrix = [b for (a, b) in topics_matrix]\n",
    "topics_matrix = np.array(topics_matrix)\n",
    "\n",
    "for index, row in enumerate(topics_matrix, 1):\n",
    "    print(\"Words for topic %d\" % index)\n",
    "    print(\" | \".join([\"{0} {1:.3f}\".format(word, float(weight)) for (word, weight) in row]))\n",
    "    print()"
   ]
  },
  {
   "cell_type": "code",
   "execution_count": null,
   "metadata": {},
   "outputs": [],
   "source": [
    "## Interactive visualisation\n",
    "import pyLDAvis.gensim\n",
    "vis = pyLDAvis.gensim.prepare(lda, corpus, dictionary, mds='mmds')\n",
    "pyLDAvis.display(vis)"
   ]
  },
  {
   "cell_type": "code",
   "execution_count": null,
   "metadata": {
    "collapsed": true
   },
   "outputs": [],
   "source": []
  },
  {
   "cell_type": "code",
   "execution_count": null,
   "metadata": {
    "collapsed": true
   },
   "outputs": [],
   "source": []
  }
 ],
 "metadata": {
  "kernelspec": {
   "display_name": "Python 3",
   "language": "python",
   "name": "python3"
  },
  "language_info": {
   "codemirror_mode": {
    "name": "ipython",
    "version": 3
   },
   "file_extension": ".py",
   "mimetype": "text/x-python",
   "name": "python",
   "nbconvert_exporter": "python",
   "pygments_lexer": "ipython3",
   "version": "3.5.2"
  }
 },
 "nbformat": 4,
 "nbformat_minor": 2
}

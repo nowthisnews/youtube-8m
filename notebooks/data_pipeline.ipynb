{
 "cells": [
  {
   "cell_type": "code",
   "execution_count": 1,
   "metadata": {},
   "outputs": [],
   "source": [
    "# %load boiler_plate.py\n",
    "# reload modules when they change\n",
    "%load_ext autoreload\n",
    "%autoreload 2\n",
    "\n",
    "# Alow plotting\n",
    "%matplotlib inline\n",
    "\n",
    "# Import modules higher in folder hierarchy\n",
    "import os\n",
    "import sys\n",
    "\n",
    "\n",
    "def add_path(path):\n",
    "    if path not in sys.path:\n",
    "        sys.path.append(path)\n"
   ]
  },
  {
   "cell_type": "code",
   "execution_count": 2,
   "metadata": {
    "collapsed": true
   },
   "outputs": [],
   "source": [
    "add_path('..')"
   ]
  },
  {
   "cell_type": "code",
   "execution_count": 3,
   "metadata": {
    "collapsed": true
   },
   "outputs": [],
   "source": [
    "from pipeline.db import fetch, inner_join, filter_videos"
   ]
  },
  {
   "cell_type": "markdown",
   "metadata": {},
   "source": [
    "# Load data\n",
    "## Videos data"
   ]
  },
  {
   "cell_type": "code",
   "execution_count": 4,
   "metadata": {
    "collapsed": true
   },
   "outputs": [],
   "source": [
    "dbname='ds-wizards'\n",
    "user='wizard'\n",
    "host='192.95.32.117'\n",
    "password='GaG23jVxZhMnQaU53r8o'\n",
    "\n",
    "VQUERY = \"select post_id, url from videos where status='ok'\"\n",
    "\n",
    "vres = fetch(host, dbname, user, password, VQUERY)\n",
    "vres = [(post_id.split(\"_\")[1], url) for post_id, url in vres]"
   ]
  },
  {
   "cell_type": "markdown",
   "metadata": {},
   "source": [
    "## Tags"
   ]
  },
  {
   "cell_type": "code",
   "execution_count": 5,
   "metadata": {
    "collapsed": true
   },
   "outputs": [],
   "source": [
    "dbname='ds-content-tags'\n",
    "user='ds-content-tags'\n",
    "password='0fXjWl592vNf1gYvIw8w'\n",
    "host='192.95.32.117'\n",
    "\n",
    "TQUERY = \"select id, tags from videos where tags is not NULL\"\n",
    "TAGS = \"select tag_id, name, path from content_tags\"\n",
    "\n",
    "tres = fetch(host, dbname, user, password, TQUERY)\n",
    "\n",
    "tags = { \n",
    "    tag_id: (name, path) for (tag_id, name, path) in fetch(\n",
    "        host, dbname, user, password, TAGS) \n",
    "}"
   ]
  },
  {
   "cell_type": "code",
   "execution_count": 6,
   "metadata": {
    "collapsed": true
   },
   "outputs": [],
   "source": [
    "import itertools\n",
    "from collections import Counter"
   ]
  },
  {
   "cell_type": "code",
   "execution_count": 9,
   "metadata": {
    "collapsed": true
   },
   "outputs": [],
   "source": [
    "c = Counter(itertools.chain(*[tags for (_, tags) in tres]))\n",
    "c_min10 = sorted([(tags[k][0], v  )for k, v in c.items() if v > 10], key = lambda x: x[1], )"
   ]
  },
  {
   "cell_type": "code",
   "execution_count": 10,
   "metadata": {},
   "outputs": [
    {
     "data": {
      "text/plain": [
       "Counter({2: 6, 3: 4901, 4: 151})"
      ]
     },
     "execution_count": 10,
     "metadata": {},
     "output_type": "execute_result"
    }
   ],
   "source": [
    "Counter([len(path) for name, path in tags.values()])"
   ]
  },
  {
   "cell_type": "code",
   "execution_count": 11,
   "metadata": {},
   "outputs": [
    {
     "data": {
      "text/plain": [
       "[('Family and relationships', ['Interests', 'Family and relationships']),\n",
       " ('Entertainment', ['Interests', 'Entertainment']),\n",
       " ('Shopping and fashion', ['Interests', 'Shopping and fashion']),\n",
       " ('Sports and outdoors', ['Interests', 'Sports and outdoors']),\n",
       " ('Technology', ['Interests', 'Technology']),\n",
       " ('Fitness and wellness', ['Interests', 'Fitness and wellness'])]"
      ]
     },
     "execution_count": 11,
     "metadata": {},
     "output_type": "execute_result"
    }
   ],
   "source": [
    "[(name, path) for name, path in tags.values() if len(path) == 2]"
   ]
  },
  {
   "cell_type": "markdown",
   "metadata": {},
   "source": [
    "## Join videos with tags"
   ]
  },
  {
   "cell_type": "code",
   "execution_count": 12,
   "metadata": {},
   "outputs": [
    {
     "name": "stdout",
     "output_type": "stream",
     "text": [
      "Found 10052 videos with 514 unique tags\n"
     ]
    }
   ],
   "source": [
    "videos = inner_join(tres, vres)\n",
    "filtered, t2i, i2t = filter_videos(videos, 10)\n",
    "print(\"Found %d videos with %d unique tags\" % (len(filtered), len(t2i)))"
   ]
  },
  {
   "cell_type": "code",
   "execution_count": 13,
   "metadata": {},
   "outputs": [
    {
     "data": {
      "text/plain": [
       "514"
      ]
     },
     "execution_count": 13,
     "metadata": {},
     "output_type": "execute_result"
    }
   ],
   "source": [
    "len(t2i)"
   ]
  },
  {
   "cell_type": "code",
   "execution_count": 14,
   "metadata": {
    "collapsed": true
   },
   "outputs": [],
   "source": [
    "v = list(inner_join(tres, vres))"
   ]
  },
  {
   "cell_type": "code",
   "execution_count": 16,
   "metadata": {
    "collapsed": true
   },
   "outputs": [],
   "source": [
    "# Take only the most common class from the list"
   ]
  },
  {
   "cell_type": "code",
   "execution_count": 17,
   "metadata": {
    "collapsed": true
   },
   "outputs": [],
   "source": [
    "import math\n",
    "\n",
    "c = Counter([min([t2i.get(t, math.inf) for t in tags]) for (id, tags, url) in v])"
   ]
  },
  {
   "cell_type": "code",
   "execution_count": 18,
   "metadata": {},
   "outputs": [
    {
     "data": {
      "text/plain": [
       "420"
      ]
     },
     "execution_count": 18,
     "metadata": {},
     "output_type": "execute_result"
    }
   ],
   "source": [
    "len(c)"
   ]
  },
  {
   "cell_type": "markdown",
   "metadata": {},
   "source": [
    "# DbPedia"
   ]
  },
  {
   "cell_type": "code",
   "execution_count": 19,
   "metadata": {
    "collapsed": true
   },
   "outputs": [],
   "source": [
    "import requests\n",
    "\n",
    "from urllib.parse import quote\n",
    "from xml.etree import ElementTree"
   ]
  },
  {
   "cell_type": "code",
   "execution_count": 20,
   "metadata": {
    "collapsed": true
   },
   "outputs": [],
   "source": [
    "DBPEDIA_QUERY = \"http://lookup.dbpedia.org/api/search/KeywordSearch?&QueryString=%s\"\n",
    "LABEL_PATH = \".//{http://lookup.dbpedia.org/}Label\""
   ]
  },
  {
   "cell_type": "code",
   "execution_count": 49,
   "metadata": {
    "collapsed": true
   },
   "outputs": [],
   "source": [
    "def dbpedia_labels(tag, only_first = True):\n",
    "    try:\n",
    "        response = requests.get(DBPEDIA_QUERY % quote(tag))\n",
    "        tree = ElementTree.fromstring(response.content)\n",
    "        tree = tree[0] if only_first else tree\n",
    "\n",
    "        labels = [label.text for label in tree.findall(LABEL_PATH)]\n",
    "        labels = [label for label in labels if label!= \"owl#Thing\"]\n",
    "    except Exception as e:\n",
    "        return []\n",
    "    \n",
    "    return labels"
   ]
  },
  {
   "cell_type": "markdown",
   "metadata": {},
   "source": [
    "# Explore DbPedia tags"
   ]
  },
  {
   "cell_type": "code",
   "execution_count": 50,
   "metadata": {},
   "outputs": [
    {
     "name": "stdout",
     "output_type": "stream",
     "text": [
      "6003392922131 Dialogue\n",
      "\t Scots language\n",
      "\t language\n",
      "\t language\n",
      "\t Languages of Ireland\n",
      "\t English languages\n",
      "\t Languages of Scotland\n",
      "\t Scots language\n",
      "\t Subject–verb–object languages\n",
      "6003216719230 Raven (drag queen)\n",
      "\t Raven (drag queen)\n",
      "\t http://xmlns.com/foaf/0.1/ person\n",
      "\t person\n",
      "\t agent\n",
      "\t person\n",
      "\t American people of Russian descent\n",
      "\t Gay actors\n",
      "\t Living people\n",
      "\t Drag queens\n",
      "\t 1979 births\n",
      "\t LGBT people from the United States\n",
      "\t American performance artists\n",
      "\t People from Riverside, California\n",
      "\t American female impersonators\n",
      "\t Former Latter Day Saints\n",
      "\t Participants in American reality television series\n",
      "6003274262708 Fiction books\n",
      "\t List of science fiction novels\n",
      "\t Science fiction novels\n",
      "\t Lists of books by genre\n",
      "\t Lists of novels\n",
      "\t Science fiction lists\n",
      "6003352347000 Scarf\n",
      "\t Hijab\n",
      "\t Islam and women\n",
      "\t Arabic clothing\n",
      "\t Headgear\n",
      "\t Purdah\n",
      "\t Islamic dress\n",
      "\t Women's rights in religious movements\n",
      "\t Scarves\n",
      "\t Islamic dress (female)\n",
      "6003392101554 Lawyer\n",
      "\t Lawyer\n",
      "\t Occupations\n",
      "\t Legal ethics\n",
      "\t Lawyers\n",
      "\t Legal professions\n"
     ]
    }
   ],
   "source": [
    "for tag_id, (name, path) in itertools.islice(tags.items(), 5):\n",
    "    print(tag_id, name)\n",
    "    for tag in dbpedia_labels(name):\n",
    "        print(\"\\t %s\" % tag)"
   ]
  },
  {
   "cell_type": "code",
   "execution_count": 54,
   "metadata": {},
   "outputs": [],
   "source": [
    "t2l = {tag_id: dbpedia_labels(name) for tag_id, (name, path) in tags.items()}"
   ]
  },
  {
   "cell_type": "code",
   "execution_count": 90,
   "metadata": {},
   "outputs": [],
   "source": [
    "def keep(label):\n",
    "    if \"from\" in label:\n",
    "        return False\n",
    "    \n",
    "    if \"births\" in label:\n",
    "        return False\n",
    "    \n",
    "    if \"xmlns\" in label:\n",
    "        return False\n",
    "    \n",
    "    return True\n",
    "\n",
    "def normalise(label):\n",
    "    return label.lower()"
   ]
  },
  {
   "cell_type": "code",
   "execution_count": 91,
   "metadata": {
    "collapsed": true
   },
   "outputs": [],
   "source": [
    "labels_raw = itertools.chain(*[labels for (tag_id, labels) in t2l.items()])\n",
    "labels_raw = [normalise(label) for label in labels_raw if keep(label)]\n",
    "labels = Counter(labels_raw)"
   ]
  },
  {
   "cell_type": "code",
   "execution_count": 93,
   "metadata": {},
   "outputs": [
    {
     "data": {
      "text/plain": [
       "[('person', 1524),\n",
       " ('agent', 1230),\n",
       " ('living people', 673),\n",
       " ('place', 572),\n",
       " ('organization', 468),\n",
       " ('organisation', 468),\n",
       " ('work', 399),\n",
       " ('creative work', 399),\n",
       " ('populated place', 252),\n",
       " ('american film actors', 240),\n",
       " ('country', 220),\n",
       " ('american television actors', 211),\n",
       " ('company', 199),\n",
       " ('artist', 185),\n",
       " ('music group', 178),\n",
       " ('television show', 153),\n",
       " ('musical artist', 140),\n",
       " ('film', 139),\n",
       " ('movie', 135),\n",
       " ('city', 135),\n",
       " ('english-language television series', 119),\n",
       " ('american voice actors', 104),\n",
       " ('grammy award winners', 101),\n",
       " ('member states of the united nations', 100),\n",
       " ('settlement', 93),\n",
       " ('english-language films', 93),\n",
       " ('television station', 88),\n",
       " ('2000s american television series', 80),\n",
       " ('2010s american television series', 76),\n",
       " ('event', 76),\n",
       " ('american child actors', 75),\n",
       " ('office holder', 74),\n",
       " ('species', 74),\n",
       " ('greek loanwords', 72),\n",
       " ('eukaryote', 71),\n",
       " ('american people of irish descent', 63),\n",
       " ('fictional character', 61),\n",
       " ('broadcaster', 59),\n",
       " ('american people of english descent', 58),\n",
       " ('article feedback 5 additional articles', 56),\n",
       " ('emmy award winners', 55),\n",
       " ('21st-century actors', 55),\n",
       " ('african-american film actors', 55),\n",
       " ('animal', 53),\n",
       " ('liberal democracies', 52),\n",
       " ('republics', 51),\n",
       " ('american people of german descent', 51),\n",
       " ('written work', 50),\n",
       " ('american people of scottish descent', 50),\n",
       " ('american films', 46)]"
      ]
     },
     "execution_count": 93,
     "metadata": {},
     "output_type": "execute_result"
    }
   ],
   "source": [
    "labels.most_common()[:50]"
   ]
  },
  {
   "cell_type": "code",
   "execution_count": null,
   "metadata": {
    "collapsed": true
   },
   "outputs": [],
   "source": []
  }
 ],
 "metadata": {
  "kernelspec": {
   "display_name": "Python 3",
   "language": "python",
   "name": "python3"
  },
  "language_info": {
   "codemirror_mode": {
    "name": "ipython",
    "version": 3
   },
   "file_extension": ".py",
   "mimetype": "text/x-python",
   "name": "python",
   "nbconvert_exporter": "python",
   "pygments_lexer": "ipython3",
   "version": "3.5.2"
  }
 },
 "nbformat": 4,
 "nbformat_minor": 2
}
